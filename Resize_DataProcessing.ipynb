{
 "cells": [
  {
   "cell_type": "code",
   "execution_count": 37,
   "metadata": {},
   "outputs": [],
   "source": [
    "import scipy.io as scio\n",
    "import numpy as np    \n",
    "import matplotlib.pyplot as plt\n",
    "import sys\n",
    "import os\n",
    "import math\n",
    "from scipy.misc import imsave"
   ]
  },
  {
   "cell_type": "code",
   "execution_count": 38,
   "metadata": {},
   "outputs": [],
   "source": [
    "path='New_Dataset/2015_BOE_Chiu/'\n",
    "labeled_images = []\n",
    "labeled_colorimages = []\n",
    "images_modified=[]\n",
    "min_image = [190, 187, 165, 141, 122, 117, 123, 147, 191, 191, 194, 65, 70, 80, 72, 66, 66, 70, 75, 72, 65, 76, 114, 121, 123, 119, 123, 121, 116, 114, 123, 127, 124, 100, 89, 94, 97, 88, 87, 97, 116, 122, 120, 118, 116, 105, 90, 70, 53, 46, 50, 72, 107, 121, 115, 110, 108, 117, 126, 120, 115, 106, 110, 121, 122, 112, 88, 91, 110, 105, 102, 87, 79, 92, 116, 115, 107, 134, 126, 117, 114, 116, 118, 120, 120, 133, 128, 129, 122, 120, 119, 112, 105, 94, 94, 92, 92, 83, 76, 161, 162, 149, 135, 130, 125, 120, 123, 137, 149, 154]\n",
    "max_image = [294, 298, 303, 307, 306, 306, 303, 300, 301, 298, 300, 192, 194, 195, 198, 199, 197, 198, 197, 197, 198, 195, 224, 227, 227, 228, 226, 232, 235, 239, 239, 238, 242, 240, 243, 246, 249, 247, 245, 244, 242, 239, 236, 235, 228, 232, 239, 241, 240, 242, 241, 240, 237, 232, 229, 243, 244, 249, 252, 253, 257, 256, 256, 253, 251, 249, 205, 206, 204, 206, 212, 212, 211, 207, 209, 213, 214, 229, 231, 235, 236, 237, 239, 241, 243, 240, 234, 233, 208, 214, 214, 218, 220, 222, 224, 227, 230, 228, 231, 284, 285, 285, 287, 286, 286, 285, 287, 285, 284, 283]\n",
    "diff_image = [104, 111, 138, 166, 184, 189, 180, 153, 110, 107, 106, 127, 124, 115, 126, 133, 131, 128, 122, 125, 133, 119, 110, 106, 104, 109, 103, 111, 119, 125, 116, 111, 118, 140, 154, 152, 152, 159, 158, 147, 126, 117, 116, 117, 112, 127, 149, 171, 187, 196, 191, 168, 130, 111, 114, 133, 136, 132, 126, 133, 142, 150, 146, 132, 129, 137, 117, 115, 94, 101, 110, 125, 132, 115, 93, 98, 107, 95, 105, 118, 122, 121, 121, 121, 123, 107, 106, 104, 86, 94, 95, 106, 115, 128, 130, 135, 138, 145, 155, 123, 123, 136, 152, 156, 161, 165, 164, 148, 135, 129]\n",
    "max_rows = 216\n",
    "resized_images = []\n",
    "resized_colorimages = []\n",
    "resized_labeledimages = []\n",
    "weighted_images = []"
   ]
  },
  {
   "cell_type": "code",
   "execution_count": 39,
   "metadata": {},
   "outputs": [],
   "source": [
    "def load_subject(subject_no):\n",
    "    local_path=path+subject_no+'/Subject_'+subject_no+'.mat'\n",
    "    sub = scio.loadmat(local_path)\n",
    "    print (sub.keys())\n",
    "    return sub\n",
    "    \n",
    "def reshape(ndarray):\n",
    "    ndarray_reshaped = np.array(ndarray.tolist())\n",
    "    ndarray_reshaped = ndarray_reshaped.reshape(ndarray.shape).transpose(2,0,1)\n",
    "    print (ndarray_reshaped.shape)\n",
    "    return ndarray_reshaped\n",
    "\n",
    "def get_gt_ids(subject_no):\n",
    "    local_path=path+subject_no+'/gt_id.mat'\n",
    "    gt_id = scio.loadmat(local_path)\n",
    "    print (gt_id.keys())\n",
    "    gt_id_list = gt_id['fr1']\n",
    "    print(gt_id_list)\n",
    "    gt_list = []\n",
    "    for item in gt_id_list:\n",
    "        gt_list.append(item[0])\n",
    "    return gt_list\n",
    "    \n",
    "def crop_image(image,left_bound,right_bound):\n",
    "    image = image[:,left_bound:right_bound]\n",
    "    return image\n",
    "\n",
    "def resize_image(image,min_value,max_value,diff_value):\n",
    "    extra = max_rows - diff_value\n",
    "    min_value = int(min_value - math.ceil(extra/2.0))\n",
    "    max_value = int(max_value + math.floor(extra/2.0))\n",
    "    image = image[min_value:max_value,:]\n",
    "    return image"
   ]
  },
  {
   "cell_type": "code",
   "execution_count": 42,
   "metadata": {},
   "outputs": [
    {
     "name": "stdout",
     "output_type": "stream",
     "text": [
      "dict_keys(['__header__', '__version__', '__globals__', 'images', 'automaticFluidDME', 'manualFluid1', 'manualFluid2', 'automaticLayersDME', 'automaticLayersNormal', 'manualLayers1', 'manualLayers2'])\n",
      "(61, 496, 768)\n",
      "(61, 8, 768)\n",
      "This is sub_index 1\n",
      "dict_keys(['__header__', '__version__', '__globals__', 'images', 'automaticFluidDME', 'manualFluid1', 'manualFluid2', 'automaticLayersDME', 'automaticLayersNormal', 'manualLayers1', 'manualLayers2'])\n",
      "(61, 496, 768)\n",
      "(61, 8, 768)\n",
      "This is sub_index 2\n",
      "dict_keys(['__header__', '__version__', '__globals__', 'images', 'automaticFluidDME', 'manualFluid1', 'manualFluid2', 'automaticLayersDME', 'automaticLayersNormal', 'manualLayers1', 'manualLayers2'])\n",
      "(61, 496, 768)\n",
      "(61, 8, 768)\n",
      "This is sub_index 3\n",
      "dict_keys(['__header__', '__version__', '__globals__', 'images', 'automaticFluidDME', 'manualFluid1', 'manualFluid2', 'automaticLayersDME', 'automaticLayersNormal', 'manualLayers1', 'manualLayers2'])\n",
      "(61, 496, 768)\n",
      "(61, 8, 768)\n",
      "This is sub_index 4\n",
      "dict_keys(['__header__', '__version__', '__globals__', 'images', 'automaticFluidDME', 'manualFluid1', 'manualFluid2', 'automaticLayersDME', 'automaticLayersNormal', 'manualLayers1', 'manualLayers2'])\n",
      "(61, 496, 768)\n",
      "(61, 8, 768)\n",
      "This is sub_index 5\n",
      "dict_keys(['__header__', '__version__', '__globals__', 'images', 'automaticFluidDME', 'manualFluid1', 'manualFluid2', 'automaticLayersDME', 'automaticLayersNormal', 'manualLayers1', 'manualLayers2'])\n",
      "(61, 496, 768)\n",
      "(61, 8, 768)\n",
      "This is sub_index 6\n",
      "dict_keys(['__header__', '__version__', '__globals__', 'images', 'automaticFluidDME', 'manualFluid1', 'manualFluid2', 'automaticLayersDME', 'automaticLayersNormal', 'manualLayers1', 'manualLayers2'])\n",
      "(61, 496, 768)\n",
      "(61, 8, 768)\n",
      "This is sub_index 7\n",
      "dict_keys(['__header__', '__version__', '__globals__', 'images', 'automaticFluidDME', 'manualFluid1', 'manualFluid2', 'automaticLayersDME', 'automaticLayersNormal', 'manualLayers1', 'manualLayers2'])\n",
      "(61, 496, 768)\n",
      "(61, 8, 768)\n",
      "This is sub_index 8\n",
      "dict_keys(['__header__', '__version__', '__globals__', 'images', 'automaticFluidDME', 'manualFluid1', 'manualFluid2', 'automaticLayersDME', 'automaticLayersNormal', 'manualLayers1', 'manualLayers2'])\n",
      "(61, 496, 768)\n",
      "(61, 8, 768)\n",
      "This is sub_index 9\n"
     ]
    }
   ],
   "source": [
    "for sub_index in range(1,10):\n",
    "\n",
    "    if sub_index!=10:\n",
    "        string = '0'+str(sub_index)\n",
    "    else:\n",
    "        string = str(sub_index)\n",
    "        \n",
    "    sub=load_subject(string)\n",
    "    sub_images = sub['images']\n",
    "    images_reshaped = reshape(sub_images)\n",
    "    manualLayer = sub['manualLayers1']\n",
    "    manualLayer_reshaped=reshape(manualLayer)\n",
    "    left_bounds = [136,121,117,109,137,146,134,120,124,140]\n",
    "    right_bounds = [636,621,617,609,637,646,634,620,624,640]\n",
    "#     gt_id_list = []\n",
    "#     gt_id_list = get_gt_ids(str(sub_index+1))\n",
    "#     for i in gt_id_list:\n",
    "        #min_value = sys.maxint \n",
    "        #max_value = -sys.maxint -1\n",
    "    print(\"This is sub_index\",sub_index)\n",
    "    test = manualLayer_reshaped[i-1]\n",
    "    test = crop_image(test,left_bounds[sub_index],right_bounds[sub_index])\n",
    "    image_modified=crop_image(images_reshaped[i-1],left_bounds[sub_index],right_bounds[sub_index])\n",
    "    images_modified.append(image_modified)\n",
    "    for j in range(8):\n",
    "        for k in range(500):\n",
    "            if(test[j][k]==0):\n",
    "                test[j][k] = test[j][k-1]\n",
    "    res_image = np.zeros((496,500))\n",
    "    color = np.zeros((496,500,3))\n",
    "    for j in range(7):\n",
    "        for k in range(500):\n",
    "            if type(test[j][k]) == int or type(test[j][k]) == float:\n",
    "                for a in range(test[j][k], test[j+1.0][k]):\n",
    "                        res_image[a][k] = j+1.0\n",
    "    labeled_images.append(res_image)\n",
    "    for j in range(496):\n",
    "        for k in range(500):\n",
    "            if(res_image[j][k]==0):\n",
    "                color[j][k] = [0,0,0]\n",
    "            if(res_image[j][k]==1):\n",
    "                color[j][k] = [128,0,0]\n",
    "            if(res_image[j][k]==2):\n",
    "                color[j][k] = [0,128,0]\n",
    "            if(res_image[j][k]==3):\n",
    "                color[j][k] = [128,128,0] \n",
    "            if(res_image[j][k]==4):\n",
    "                color[j][k] = [0,128,128]\n",
    "            if(res_image[j][k]==5):\n",
    "                color[j][k] = [64,0,0]\n",
    "            if(res_image[j][k]==6):\n",
    "                color[j][k] = [192,0,0]\n",
    "            if(res_image[j][k]==7):\n",
    "                color[j][k] = [128,64,64]\n",
    "            if(res_image[j][k]==9):\n",
    "                color[j][k] = [0,64,128]\n",
    "    labeled_colorimages.append(color)\n",
    "\n",
    "    '''for k in range(500):\n",
    "        min_value = min(test[0][k],min_value)\n",
    "        max_value = max(test[7][k],max_value)\n",
    "    diff_value = max_value - min_value\n",
    "    min_image.append(min_value)\n",
    "    max_image.append(max_value)\n",
    "    diff_image.append(diff_value)'''\n",
    "        \n",
    "            "
   ]
  },
  {
   "cell_type": "code",
   "execution_count": 45,
   "metadata": {},
   "outputs": [
    {
     "name": "stdout",
     "output_type": "stream",
     "text": [
      "0\n",
      "1\n",
      "2\n",
      "3\n",
      "4\n",
      "5\n",
      "6\n",
      "7\n",
      "8\n",
      "9\n",
      "10\n",
      "11\n",
      "12\n",
      "13\n",
      "14\n",
      "15\n",
      "16\n",
      "17\n",
      "18\n"
     ]
    },
    {
     "ename": "IndexError",
     "evalue": "list index out of range",
     "output_type": "error",
     "traceback": [
      "\u001b[0;31m---------------------------------------------------------------------------\u001b[0m",
      "\u001b[0;31mIndexError\u001b[0m                                Traceback (most recent call last)",
      "\u001b[0;32m<ipython-input-45-34405eb82137>\u001b[0m in \u001b[0;36m<module>\u001b[0;34m()\u001b[0m\n\u001b[1;32m      1\u001b[0m \u001b[0;32mfor\u001b[0m \u001b[0mi\u001b[0m \u001b[0;32min\u001b[0m \u001b[0mrange\u001b[0m\u001b[0;34m(\u001b[0m\u001b[0;36m110\u001b[0m\u001b[0;34m)\u001b[0m\u001b[0;34m:\u001b[0m\u001b[0;34m\u001b[0m\u001b[0m\n\u001b[1;32m      2\u001b[0m     \u001b[0mprint\u001b[0m\u001b[0;34m(\u001b[0m\u001b[0mi\u001b[0m\u001b[0;34m)\u001b[0m\u001b[0;34m\u001b[0m\u001b[0m\n\u001b[0;32m----> 3\u001b[0;31m     \u001b[0mimage\u001b[0m \u001b[0;34m=\u001b[0m \u001b[0mimages_modified\u001b[0m\u001b[0;34m[\u001b[0m\u001b[0mi\u001b[0m\u001b[0;34m]\u001b[0m\u001b[0;34m\u001b[0m\u001b[0m\n\u001b[0m\u001b[1;32m      4\u001b[0m     \u001b[0mlabeled_image\u001b[0m \u001b[0;34m=\u001b[0m \u001b[0mlabeled_images\u001b[0m\u001b[0;34m[\u001b[0m\u001b[0mi\u001b[0m\u001b[0;34m]\u001b[0m\u001b[0;34m\u001b[0m\u001b[0m\n\u001b[1;32m      5\u001b[0m     \u001b[0mlabeled_colorimage\u001b[0m \u001b[0;34m=\u001b[0m \u001b[0mlabeled_colorimages\u001b[0m\u001b[0;34m[\u001b[0m\u001b[0mi\u001b[0m\u001b[0;34m]\u001b[0m\u001b[0;34m\u001b[0m\u001b[0m\n",
      "\u001b[0;31mIndexError\u001b[0m: list index out of range"
     ]
    }
   ],
   "source": [
    "for i in range(110):\n",
    "    print(i)\n",
    "    image = images_modified[i]\n",
    "    labeled_image = labeled_images[i]\n",
    "    labeled_colorimage = labeled_colorimages[i]\n",
    "    resized_image = resize_image(image,min_image[i],max_image[i],diff_image[i])\n",
    "    resized_labeled_image = resize_image(labeled_image,min_image[i],max_image[i],diff_image[i])\n",
    "    resized_colorimage = resize_image(labeled_colorimage,min_image[i],max_image[i],diff_image[i])\n",
    "    resized_images.append(resized_image)\n",
    "    resized_labeledimages.append(resized_labeled_image)\n",
    "    resized_colorimages.append(resized_colorimage)"
   ]
  },
  {
   "cell_type": "code",
   "execution_count": null,
   "metadata": {
    "collapsed": true
   },
   "outputs": [],
   "source": [
    "imgplot = plt.imshow(resized_colorimages[50])\n",
    "plt.show()"
   ]
  },
  {
   "cell_type": "code",
   "execution_count": null,
   "metadata": {},
   "outputs": [],
   "source": [
    "print(resized_images[50])"
   ]
  },
  {
   "cell_type": "code",
   "execution_count": null,
   "metadata": {
    "collapsed": true
   },
   "outputs": [],
   "source": [
    "for item in range(110):\n",
    "    imsave('Dataset/Resized/resized_'+str(item+1)+'.png',resized_images[item])\n",
    "for item in range(110):\n",
    "    imsave('Dataset/Resized_Colored/resized_colored'+str(item+1)+'.png',resized_colorimages[item])"
   ]
  },
  {
   "cell_type": "code",
   "execution_count": null,
   "metadata": {
    "collapsed": true
   },
   "outputs": [],
   "source": [
    "np.save('resized_images.npy',resized_images)\n",
    "np.save('resized_labeledimages.npy',resized_labeledimages)"
   ]
  },
  {
   "cell_type": "code",
   "execution_count": null,
   "metadata": {
    "collapsed": true
   },
   "outputs": [],
   "source": [
    "count = [0]*8\n",
    "weighted_images = []\n",
    "for i in range(110):\n",
    "    image = resized_labeledimages[i]\n",
    "    weighted_image = np.zeros((216,500)) # image of weights\n",
    "    for j in range(216):\n",
    "        for k in range(500):\n",
    "             if(image[j][k]==1):\n",
    "                w2 = 11.459\n",
    "             elif(image[j][k] == 2):\n",
    "                w2 = 5.63\n",
    "             elif(image[j][k]== 3):\n",
    "                w2 = 11.007 \n",
    "             elif(image[j][k] == 4):\n",
    "                w2 = 14.368 \n",
    "             elif(image[j][k]== 5):\n",
    "                w2 = 3.336 \n",
    "             elif(image[j][k]== 6):\n",
    "                w2 = 13.647 \n",
    "             elif(image[j][k]== 7):\n",
    "                w2 = 16.978 \n",
    "             else:\n",
    "                w2 = 0\n",
    "             if(j!=0 and j!=215):\n",
    "                if(image[j+1][k]-image[j-1][k]>0 and w2<>0): # doing the gradient (discrete differetiation)\n",
    "                    w1 = 15 \n",
    "                   # count = count +1\n",
    "                    count[int(image[j-1][k])] = count[int(image[j-1][k])] + 1 \n",
    "                else:\n",
    "                    w1 = 0\n",
    "             else:\n",
    "                w1 = 0\n",
    "             w = 1 + w1 + w2\n",
    "             weighted_image[j][k] = w\n",
    "    weighted_images.append(weighted_image)"
   ]
  },
  {
   "cell_type": "code",
   "execution_count": null,
   "metadata": {},
   "outputs": [],
   "source": [
    "for i in range(7):\n",
    "    print(count[i])"
   ]
  },
  {
   "cell_type": "code",
   "execution_count": null,
   "metadata": {
    "collapsed": true
   },
   "outputs": [],
   "source": [
    "for item in range(110):\n",
    "    imsave('Dataset/Weighted/weighted_'+str(item+1)+'.png',weighted_images[item])"
   ]
  },
  {
   "cell_type": "code",
   "execution_count": null,
   "metadata": {
    "collapsed": true
   },
   "outputs": [],
   "source": [
    "np.save('weighted_images.npy',np.array(weighted_images))"
   ]
  },
  {
   "cell_type": "code",
   "execution_count": null,
   "metadata": {
    "collapsed": true
   },
   "outputs": [],
   "source": [
    "imgplot = plt.imshow(weighted_images[2])\n",
    "plt.show()"
   ]
  },
  {
   "cell_type": "code",
   "execution_count": null,
   "metadata": {},
   "outputs": [],
   "source": [
    "print(len(resized_images))\n",
    "print(resized_images[0].shape)"
   ]
  },
  {
   "cell_type": "code",
   "execution_count": null,
   "metadata": {
    "collapsed": true
   },
   "outputs": [],
   "source": [
    "resized_cropped_images = []\n",
    "resized_cropped_labeledimages = []\n",
    "weighted_cropped_images = []\n",
    "resized_color_train_images = []"
   ]
  },
  {
   "cell_type": "code",
   "execution_count": null,
   "metadata": {
    "collapsed": true
   },
   "outputs": [],
   "source": [
    "for i in range(110):\n",
    "    for j in range(7):\n",
    "        temp = crop_image(resized_images[i],j*64,(j+1)*64)\n",
    "        resized_cropped_images.append(temp)\n",
    "        imsave('Dataset/Resized_train/train_'+str((i*7)+(j+1))+'.png',temp)"
   ]
  },
  {
   "cell_type": "code",
   "execution_count": null,
   "metadata": {
    "collapsed": true
   },
   "outputs": [],
   "source": [
    "for i in range(110):\n",
    "    for j in range(7):\n",
    "        temp = crop_image(resized_labeledimages[i],j*64,(j+1)*64)\n",
    "        resized_cropped_labeledimages.append(temp)\n",
    "        imsave('Dataset/Resized_labeledtrain/resized_labeledimage_'+str((i*7)+(j+1))+'.png',temp)"
   ]
  },
  {
   "cell_type": "code",
   "execution_count": null,
   "metadata": {
    "collapsed": true
   },
   "outputs": [],
   "source": [
    "for i in range(110):\n",
    "    for j in range(7):\n",
    "        temp = crop_image(weighted_images[i],j*64,(j+1)*64)\n",
    "        weighted_cropped_images.append(temp)\n",
    "        imsave('Dataset/Weighted_cropped/weighted_image_'+str((i*7)+(j+1))+'.png',temp)"
   ]
  },
  {
   "cell_type": "code",
   "execution_count": null,
   "metadata": {
    "collapsed": true
   },
   "outputs": [],
   "source": [
    "for i in range(110):\n",
    "    for j in range(7):\n",
    "        temp = crop_image(resized_colorimages[i],j*64,(j+1)*64)\n",
    "        resized_color_train_images.append(temp)\n",
    "        imsave('Dataset/Resized_color_train/resized_color_train_image_'+str((i*7)+(j+1))+'.png',temp)"
   ]
  },
  {
   "cell_type": "code",
   "execution_count": null,
   "metadata": {
    "collapsed": true
   },
   "outputs": [],
   "source": [
    "np.save('resized_cropped_images.npy',np.array(resized_cropped_images))\n",
    "np.save('resized_cropped_labeledimages.npy',np.array(resized_cropped_labeledimages))\n",
    "np.save('weighted_cropped_images.npy',np.array(weighted_cropped_images))"
   ]
  }
 ],
 "metadata": {
  "kernelspec": {
   "display_name": "Python (py3)",
   "language": "python",
   "name": "py3"
  },
  "language_info": {
   "codemirror_mode": {
    "name": "ipython",
    "version": 3
   },
   "file_extension": ".py",
   "mimetype": "text/x-python",
   "name": "python",
   "nbconvert_exporter": "python",
   "pygments_lexer": "ipython3",
   "version": "3.6.5"
  }
 },
 "nbformat": 4,
 "nbformat_minor": 1
}
