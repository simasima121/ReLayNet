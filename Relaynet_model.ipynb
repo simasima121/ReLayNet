{
 "cells": [
  {
   "cell_type": "code",
   "execution_count": 1,
   "metadata": {},
   "outputs": [
    {
     "name": "stderr",
     "output_type": "stream",
     "text": [
      "Using TensorFlow backend.\n"
     ]
    }
   ],
   "source": [
    "import keras\n",
    "from keras.layers import Activation\n",
    "from keras.layers import Conv2D, MaxPooling2D\n",
    "from keras.models import Model\n",
    "from keras.layers import Input\n",
    "from keras.layers import BatchNormalization\n",
    "from keras.layers import UpSampling2D\n",
    "from keras.layers import Concatenate\n",
    "from keras.layers import Lambda \n",
    "from keras.utils import to_categorical\n",
    "import tensorflow as tf\n",
    "\n",
    "from keras.layers import Reshape\n",
    "\n",
    "from keras import backend as K\n",
    "from keras import regularizers, optimizers\n",
    "%matplotlib inline"
   ]
  },
  {
   "cell_type": "code",
   "execution_count": 2,
   "metadata": {
    "collapsed": true
   },
   "outputs": [],
   "source": [
    "from keras.callbacks import ReduceLROnPlateau, CSVLogger,EarlyStopping,ModelCheckpoint\n"
   ]
  },
  {
   "cell_type": "code",
   "execution_count": 3,
   "metadata": {
    "collapsed": true
   },
   "outputs": [],
   "source": [
    "import scipy.io as scio\n",
    "import numpy as np    \n",
    "import os\n",
    "import matplotlib.pyplot as plt\n",
    "import math\n",
    "import re\n",
    "from scipy.misc import imsave\n",
    "from scipy import ndimage, misc\n",
    "from numpy import unravel_index\n",
    "from operator import sub"
   ]
  },
  {
   "cell_type": "code",
   "execution_count": 4,
   "metadata": {
    "collapsed": true
   },
   "outputs": [],
   "source": [
    "def atoi(text) : \n",
    "    return int(text) if text.isdigit() else text"
   ]
  },
  {
   "cell_type": "code",
   "execution_count": 5,
   "metadata": {
    "collapsed": true
   },
   "outputs": [],
   "source": [
    "def natural_keys(text) :\n",
    "    return [atoi(c) for c in re.split('(\\d+)', text)]"
   ]
  },
  {
   "cell_type": "code",
   "execution_count": 6,
   "metadata": {},
   "outputs": [],
   "source": [
    "root_path = \"\"\n",
    "filenames = []\n",
    "for root, dirnames, filenames in os.walk(\"Dataset/DenoisedTrain/\"):\n",
    "    filenames.sort(key = natural_keys)\n",
    "    rootpath = root"
   ]
  },
  {
   "cell_type": "code",
   "execution_count": 7,
   "metadata": {},
   "outputs": [
    {
     "name": "stdout",
     "output_type": "stream",
     "text": [
      "['denoised_1.png', 'denoised_2.png', 'denoised_3.png', 'denoised_4.png', 'denoised_5.png', 'denoised_6.png', 'denoised_7.png', 'denoised_8.png', 'denoised_9.png', 'denoised_10.png', 'denoised_11.png', 'denoised_12.png', 'denoised_13.png', 'denoised_14.png', 'denoised_15.png', 'denoised_16.png', 'denoised_17.png', 'denoised_18.png', 'denoised_19.png', 'denoised_20.png', 'denoised_21.png', 'denoised_22.png', 'denoised_23.png', 'denoised_24.png', 'denoised_25.png', 'denoised_26.png', 'denoised_27.png', 'denoised_28.png', 'denoised_29.png', 'denoised_30.png', 'denoised_31.png', 'denoised_32.png', 'denoised_33.png', 'denoised_34.png', 'denoised_35.png', 'denoised_36.png', 'denoised_37.png', 'denoised_38.png', 'denoised_39.png', 'denoised_40.png', 'denoised_41.png', 'denoised_42.png', 'denoised_43.png', 'denoised_44.png', 'denoised_45.png', 'denoised_46.png', 'denoised_47.png', 'denoised_48.png', 'denoised_49.png', 'denoised_50.png', 'denoised_51.png', 'denoised_52.png', 'denoised_53.png', 'denoised_54.png', 'denoised_55.png', 'denoised_56.png', 'denoised_57.png', 'denoised_58.png', 'denoised_59.png', 'denoised_60.png', 'denoised_61.png', 'denoised_62.png', 'denoised_63.png', 'denoised_64.png', 'denoised_65.png', 'denoised_66.png', 'denoised_67.png', 'denoised_68.png', 'denoised_69.png', 'denoised_70.png', 'denoised_71.png', 'denoised_72.png', 'denoised_73.png', 'denoised_74.png', 'denoised_75.png', 'denoised_76.png', 'denoised_77.png', 'denoised_78.png', 'denoised_79.png', 'denoised_80.png', 'denoised_81.png', 'denoised_82.png', 'denoised_83.png', 'denoised_84.png', 'denoised_85.png', 'denoised_86.png', 'denoised_87.png', 'denoised_88.png', 'denoised_89.png', 'denoised_90.png', 'denoised_91.png', 'denoised_92.png', 'denoised_93.png', 'denoised_94.png', 'denoised_95.png', 'denoised_96.png', 'denoised_97.png', 'denoised_98.png', 'denoised_99.png', 'denoised_100.png', 'denoised_101.png', 'denoised_102.png', 'denoised_103.png', 'denoised_104.png', 'denoised_105.png', 'denoised_106.png', 'denoised_107.png', 'denoised_108.png', 'denoised_109.png', 'denoised_110.png', 'denoised_111.png', 'denoised_112.png', 'denoised_113.png', 'denoised_114.png', 'denoised_115.png', 'denoised_116.png', 'denoised_117.png', 'denoised_118.png', 'denoised_119.png', 'denoised_120.png', 'denoised_121.png', 'denoised_122.png', 'denoised_123.png', 'denoised_124.png', 'denoised_125.png', 'denoised_126.png', 'denoised_127.png', 'denoised_128.png', 'denoised_129.png', 'denoised_130.png', 'denoised_131.png', 'denoised_132.png', 'denoised_133.png', 'denoised_134.png', 'denoised_135.png', 'denoised_136.png', 'denoised_137.png', 'denoised_138.png', 'denoised_139.png', 'denoised_140.png', 'denoised_141.png', 'denoised_142.png', 'denoised_143.png', 'denoised_144.png', 'denoised_145.png', 'denoised_146.png', 'denoised_147.png', 'denoised_148.png', 'denoised_149.png', 'denoised_150.png', 'denoised_151.png', 'denoised_152.png', 'denoised_153.png', 'denoised_154.png', 'denoised_155.png', 'denoised_156.png', 'denoised_157.png', 'denoised_158.png', 'denoised_159.png', 'denoised_160.png', 'denoised_161.png', 'denoised_162.png', 'denoised_163.png', 'denoised_164.png', 'denoised_165.png', 'denoised_166.png', 'denoised_167.png', 'denoised_168.png', 'denoised_169.png', 'denoised_170.png', 'denoised_171.png', 'denoised_172.png', 'denoised_173.png', 'denoised_174.png', 'denoised_175.png', 'denoised_176.png', 'denoised_177.png', 'denoised_178.png', 'denoised_179.png', 'denoised_180.png', 'denoised_181.png', 'denoised_182.png', 'denoised_183.png', 'denoised_184.png', 'denoised_185.png', 'denoised_186.png', 'denoised_187.png', 'denoised_188.png', 'denoised_189.png', 'denoised_190.png', 'denoised_191.png', 'denoised_192.png', 'denoised_193.png', 'denoised_194.png', 'denoised_195.png', 'denoised_196.png', 'denoised_197.png', 'denoised_198.png', 'denoised_199.png', 'denoised_200.png', 'denoised_201.png', 'denoised_202.png', 'denoised_203.png', 'denoised_204.png', 'denoised_205.png', 'denoised_206.png', 'denoised_207.png', 'denoised_208.png', 'denoised_209.png', 'denoised_210.png', 'denoised_211.png', 'denoised_212.png', 'denoised_213.png', 'denoised_214.png', 'denoised_215.png', 'denoised_216.png', 'denoised_217.png', 'denoised_218.png', 'denoised_219.png', 'denoised_220.png', 'denoised_221.png', 'denoised_222.png', 'denoised_223.png', 'denoised_224.png', 'denoised_225.png', 'denoised_226.png', 'denoised_227.png', 'denoised_228.png', 'denoised_229.png', 'denoised_230.png', 'denoised_231.png', 'denoised_232.png', 'denoised_233.png', 'denoised_234.png', 'denoised_235.png', 'denoised_236.png', 'denoised_237.png', 'denoised_238.png', 'denoised_239.png', 'denoised_240.png', 'denoised_241.png', 'denoised_242.png', 'denoised_243.png', 'denoised_244.png', 'denoised_245.png', 'denoised_246.png', 'denoised_247.png', 'denoised_248.png', 'denoised_249.png', 'denoised_250.png', 'denoised_251.png', 'denoised_252.png', 'denoised_253.png', 'denoised_254.png', 'denoised_255.png', 'denoised_256.png', 'denoised_257.png', 'denoised_258.png', 'denoised_259.png', 'denoised_260.png', 'denoised_261.png', 'denoised_262.png', 'denoised_263.png', 'denoised_264.png', 'denoised_265.png', 'denoised_266.png', 'denoised_267.png', 'denoised_268.png', 'denoised_269.png', 'denoised_270.png', 'denoised_271.png', 'denoised_272.png', 'denoised_273.png', 'denoised_274.png', 'denoised_275.png', 'denoised_276.png', 'denoised_277.png', 'denoised_278.png', 'denoised_279.png', 'denoised_280.png', 'denoised_281.png', 'denoised_282.png', 'denoised_283.png', 'denoised_284.png', 'denoised_285.png', 'denoised_286.png', 'denoised_287.png', 'denoised_288.png', 'denoised_289.png', 'denoised_290.png', 'denoised_291.png', 'denoised_292.png', 'denoised_293.png', 'denoised_294.png', 'denoised_295.png', 'denoised_296.png', 'denoised_297.png', 'denoised_298.png', 'denoised_299.png', 'denoised_300.png', 'denoised_301.png', 'denoised_302.png', 'denoised_303.png', 'denoised_304.png', 'denoised_305.png', 'denoised_306.png', 'denoised_307.png', 'denoised_308.png', 'denoised_309.png', 'denoised_310.png', 'denoised_311.png', 'denoised_312.png', 'denoised_313.png', 'denoised_314.png', 'denoised_315.png', 'denoised_316.png', 'denoised_317.png', 'denoised_318.png', 'denoised_319.png', 'denoised_320.png', 'denoised_321.png', 'denoised_322.png', 'denoised_323.png', 'denoised_324.png', 'denoised_325.png', 'denoised_326.png', 'denoised_327.png', 'denoised_328.png', 'denoised_329.png', 'denoised_330.png', 'denoised_331.png', 'denoised_332.png', 'denoised_333.png', 'denoised_334.png', 'denoised_335.png', 'denoised_336.png', 'denoised_337.png', 'denoised_338.png', 'denoised_339.png', 'denoised_340.png', 'denoised_341.png', 'denoised_342.png', 'denoised_343.png', 'denoised_344.png', 'denoised_345.png', 'denoised_346.png', 'denoised_347.png', 'denoised_348.png', 'denoised_349.png', 'denoised_350.png', 'denoised_351.png', 'denoised_352.png', 'denoised_353.png', 'denoised_354.png', 'denoised_355.png', 'denoised_356.png', 'denoised_357.png', 'denoised_358.png', 'denoised_359.png', 'denoised_360.png', 'denoised_361.png', 'denoised_362.png', 'denoised_363.png', 'denoised_364.png', 'denoised_365.png', 'denoised_366.png', 'denoised_367.png', 'denoised_368.png', 'denoised_369.png', 'denoised_370.png', 'denoised_371.png', 'denoised_372.png', 'denoised_373.png', 'denoised_374.png', 'denoised_375.png', 'denoised_376.png', 'denoised_377.png', 'denoised_378.png', 'denoised_379.png', 'denoised_380.png', 'denoised_381.png', 'denoised_382.png', 'denoised_383.png', 'denoised_384.png', 'denoised_385.png', 'denoised_386.png', 'denoised_387.png', 'denoised_388.png', 'denoised_389.png', 'denoised_390.png', 'denoised_391.png', 'denoised_392.png', 'denoised_393.png', 'denoised_394.png', 'denoised_395.png', 'denoised_396.png', 'denoised_397.png', 'denoised_398.png', 'denoised_399.png', 'denoised_400.png', 'denoised_401.png', 'denoised_402.png', 'denoised_403.png', 'denoised_404.png', 'denoised_405.png', 'denoised_406.png', 'denoised_407.png', 'denoised_408.png', 'denoised_409.png', 'denoised_410.png', 'denoised_411.png', 'denoised_412.png', 'denoised_413.png', 'denoised_414.png', 'denoised_415.png', 'denoised_416.png', 'denoised_417.png', 'denoised_418.png', 'denoised_419.png', 'denoised_420.png', 'denoised_421.png', 'denoised_422.png', 'denoised_423.png', 'denoised_424.png', 'denoised_425.png', 'denoised_426.png', 'denoised_427.png', 'denoised_428.png', 'denoised_429.png', 'denoised_430.png', 'denoised_431.png', 'denoised_432.png', 'denoised_433.png', 'denoised_434.png', 'denoised_435.png', 'denoised_436.png', 'denoised_437.png', 'denoised_438.png', 'denoised_439.png', 'denoised_440.png', 'denoised_441.png', 'denoised_442.png', 'denoised_443.png', 'denoised_444.png', 'denoised_445.png', 'denoised_446.png', 'denoised_447.png', 'denoised_448.png', 'denoised_449.png', 'denoised_450.png', 'denoised_451.png', 'denoised_452.png', 'denoised_453.png', 'denoised_454.png', 'denoised_455.png', 'denoised_456.png', 'denoised_457.png', 'denoised_458.png', 'denoised_459.png', 'denoised_460.png', 'denoised_461.png', 'denoised_462.png', 'denoised_463.png', 'denoised_464.png', 'denoised_465.png', 'denoised_466.png', 'denoised_467.png', 'denoised_468.png', 'denoised_469.png', 'denoised_470.png', 'denoised_471.png', 'denoised_472.png', 'denoised_473.png', 'denoised_474.png', 'denoised_475.png', 'denoised_476.png', 'denoised_477.png', 'denoised_478.png', 'denoised_479.png', 'denoised_480.png', 'denoised_481.png', 'denoised_482.png', 'denoised_483.png', 'denoised_484.png', 'denoised_485.png', 'denoised_486.png', 'denoised_487.png', 'denoised_488.png', 'denoised_489.png', 'denoised_490.png', 'denoised_491.png', 'denoised_492.png', 'denoised_493.png', 'denoised_494.png', 'denoised_495.png', 'denoised_496.png', 'denoised_497.png', 'denoised_498.png', 'denoised_499.png', 'denoised_500.png', 'denoised_501.png', 'denoised_502.png', 'denoised_503.png', 'denoised_504.png', 'denoised_505.png', 'denoised_506.png', 'denoised_507.png', 'denoised_508.png', 'denoised_509.png', 'denoised_510.png', 'denoised_511.png', 'denoised_512.png', 'denoised_513.png', 'denoised_514.png', 'denoised_515.png', 'denoised_516.png', 'denoised_517.png', 'denoised_518.png', 'denoised_519.png', 'denoised_520.png', 'denoised_521.png', 'denoised_522.png', 'denoised_523.png', 'denoised_524.png', 'denoised_525.png', 'denoised_526.png', 'denoised_527.png', 'denoised_528.png', 'denoised_529.png', 'denoised_530.png', 'denoised_531.png', 'denoised_532.png', 'denoised_533.png', 'denoised_534.png', 'denoised_535.png', 'denoised_536.png', 'denoised_537.png', 'denoised_538.png', 'denoised_539.png', 'denoised_540.png', 'denoised_541.png', 'denoised_542.png', 'denoised_543.png', 'denoised_544.png', 'denoised_545.png', 'denoised_546.png', 'denoised_547.png', 'denoised_548.png', 'denoised_549.png', 'denoised_550.png', 'denoised_551.png', 'denoised_552.png', 'denoised_553.png', 'denoised_554.png', 'denoised_555.png', 'denoised_556.png', 'denoised_557.png', 'denoised_558.png', 'denoised_559.png', 'denoised_560.png', 'denoised_561.png', 'denoised_562.png', 'denoised_563.png', 'denoised_564.png', 'denoised_565.png', 'denoised_566.png', 'denoised_567.png', 'denoised_568.png', 'denoised_569.png', 'denoised_570.png', 'denoised_571.png', 'denoised_572.png', 'denoised_573.png', 'denoised_574.png', 'denoised_575.png', 'denoised_576.png', 'denoised_577.png', 'denoised_578.png', 'denoised_579.png', 'denoised_580.png', 'denoised_581.png', 'denoised_582.png', 'denoised_583.png', 'denoised_584.png', 'denoised_585.png', 'denoised_586.png', 'denoised_587.png', 'denoised_588.png', 'denoised_589.png', 'denoised_590.png', 'denoised_591.png', 'denoised_592.png', 'denoised_593.png', 'denoised_594.png', 'denoised_595.png', 'denoised_596.png', 'denoised_597.png', 'denoised_598.png', 'denoised_599.png', 'denoised_600.png', 'denoised_601.png', 'denoised_602.png', 'denoised_603.png', 'denoised_604.png', 'denoised_605.png', 'denoised_606.png', 'denoised_607.png', 'denoised_608.png', 'denoised_609.png', 'denoised_610.png', 'denoised_611.png', 'denoised_612.png', 'denoised_613.png', 'denoised_614.png', 'denoised_615.png', 'denoised_616.png', 'denoised_617.png', 'denoised_618.png', 'denoised_619.png', 'denoised_620.png', 'denoised_621.png', 'denoised_622.png', 'denoised_623.png', 'denoised_624.png', 'denoised_625.png', 'denoised_626.png', 'denoised_627.png', 'denoised_628.png', 'denoised_629.png', 'denoised_630.png', 'denoised_631.png', 'denoised_632.png', 'denoised_633.png', 'denoised_634.png', 'denoised_635.png', 'denoised_636.png', 'denoised_637.png', 'denoised_638.png', 'denoised_639.png', 'denoised_640.png', 'denoised_641.png', 'denoised_642.png', 'denoised_643.png', 'denoised_644.png', 'denoised_645.png', 'denoised_646.png', 'denoised_647.png', 'denoised_648.png', 'denoised_649.png', 'denoised_650.png', 'denoised_651.png', 'denoised_652.png', 'denoised_653.png', 'denoised_654.png', 'denoised_655.png', 'denoised_656.png', 'denoised_657.png', 'denoised_658.png', 'denoised_659.png', 'denoised_660.png', 'denoised_661.png', 'denoised_662.png', 'denoised_663.png', 'denoised_664.png', 'denoised_665.png', 'denoised_666.png', 'denoised_667.png', 'denoised_668.png', 'denoised_669.png', 'denoised_670.png', 'denoised_671.png', 'denoised_672.png', 'denoised_673.png', 'denoised_674.png', 'denoised_675.png', 'denoised_676.png', 'denoised_677.png', 'denoised_678.png', 'denoised_679.png', 'denoised_680.png', 'denoised_681.png', 'denoised_682.png', 'denoised_683.png', 'denoised_684.png', 'denoised_685.png', 'denoised_686.png', 'denoised_687.png', 'denoised_688.png', 'denoised_689.png', 'denoised_690.png', 'denoised_691.png', 'denoised_692.png', 'denoised_693.png', 'denoised_694.png', 'denoised_695.png', 'denoised_696.png', 'denoised_697.png', 'denoised_698.png', 'denoised_699.png', 'denoised_700.png', 'denoised_701.png', 'denoised_702.png', 'denoised_703.png', 'denoised_704.png', 'denoised_705.png', 'denoised_706.png', 'denoised_707.png', 'denoised_708.png', 'denoised_709.png', 'denoised_710.png', 'denoised_711.png', 'denoised_712.png', 'denoised_713.png', 'denoised_714.png', 'denoised_715.png', 'denoised_716.png', 'denoised_717.png', 'denoised_718.png', 'denoised_719.png', 'denoised_720.png', 'denoised_721.png', 'denoised_722.png', 'denoised_723.png', 'denoised_724.png', 'denoised_725.png', 'denoised_726.png', 'denoised_727.png', 'denoised_728.png', 'denoised_729.png', 'denoised_730.png', 'denoised_731.png', 'denoised_732.png', 'denoised_733.png', 'denoised_734.png', 'denoised_735.png', 'denoised_736.png', 'denoised_737.png', 'denoised_738.png', 'denoised_739.png', 'denoised_740.png', 'denoised_741.png', 'denoised_742.png', 'denoised_743.png', 'denoised_744.png', 'denoised_745.png', 'denoised_746.png', 'denoised_747.png', 'denoised_748.png', 'denoised_749.png', 'denoised_750.png', 'denoised_751.png', 'denoised_752.png', 'denoised_753.png', 'denoised_754.png', 'denoised_755.png', 'denoised_756.png', 'denoised_757.png', 'denoised_758.png', 'denoised_759.png', 'denoised_760.png', 'denoised_761.png', 'denoised_762.png', 'denoised_763.png', 'denoised_764.png', 'denoised_765.png', 'denoised_766.png', 'denoised_767.png', 'denoised_768.png', 'denoised_769.png', 'denoised_770.png']\n"
     ]
    }
   ],
   "source": [
    "print(filenames)"
   ]
  },
  {
   "cell_type": "code",
   "execution_count": 8,
   "metadata": {},
   "outputs": [
    {
     "name": "stdout",
     "output_type": "stream",
     "text": [
      "denoised_1.png\n",
      "denoised_2.png\n",
      "denoised_3.png\n",
      "denoised_4.png\n",
      "denoised_5.png\n",
      "denoised_6.png\n",
      "denoised_7.png\n",
      "denoised_8.png\n",
      "denoised_9.png\n",
      "denoised_10.png\n",
      "denoised_11.png\n",
      "denoised_12.png\n",
      "denoised_13.png\n",
      "denoised_14.png\n",
      "denoised_15.png\n",
      "denoised_16.png\n",
      "denoised_17.png\n",
      "denoised_18.png\n",
      "denoised_19.png\n",
      "denoised_20.png\n",
      "denoised_21.png\n",
      "denoised_22.png\n",
      "denoised_23.png\n",
      "denoised_24.png\n",
      "denoised_25.png\n",
      "denoised_26.png\n",
      "denoised_27.png\n",
      "denoised_28.png\n",
      "denoised_29.png\n",
      "denoised_30.png\n",
      "denoised_31.png\n",
      "denoised_32.png\n",
      "denoised_33.png\n",
      "denoised_34.png\n",
      "denoised_35.png\n",
      "denoised_36.png\n",
      "denoised_37.png\n",
      "denoised_38.png\n",
      "denoised_39.png\n",
      "denoised_40.png\n",
      "denoised_41.png\n",
      "denoised_42.png\n",
      "denoised_43.png\n",
      "denoised_44.png\n",
      "denoised_45.png\n",
      "denoised_46.png\n",
      "denoised_47.png\n",
      "denoised_48.png\n",
      "denoised_49.png\n",
      "denoised_50.png\n",
      "denoised_51.png\n",
      "denoised_52.png\n",
      "denoised_53.png\n",
      "denoised_54.png\n",
      "denoised_55.png\n",
      "denoised_56.png\n",
      "denoised_57.png\n",
      "denoised_58.png\n",
      "denoised_59.png\n",
      "denoised_60.png\n",
      "denoised_61.png\n",
      "denoised_62.png\n",
      "denoised_63.png\n",
      "denoised_64.png\n",
      "denoised_65.png\n",
      "denoised_66.png\n",
      "denoised_67.png\n",
      "denoised_68.png\n",
      "denoised_69.png\n",
      "denoised_70.png\n",
      "denoised_71.png\n",
      "denoised_72.png\n",
      "denoised_73.png\n",
      "denoised_74.png\n",
      "denoised_75.png\n",
      "denoised_76.png\n",
      "denoised_77.png\n",
      "denoised_78.png\n",
      "denoised_79.png\n",
      "denoised_80.png\n",
      "denoised_81.png\n",
      "denoised_82.png\n",
      "denoised_83.png\n",
      "denoised_84.png\n",
      "denoised_85.png\n",
      "denoised_86.png\n",
      "denoised_87.png\n",
      "denoised_88.png\n",
      "denoised_89.png\n",
      "denoised_90.png\n",
      "denoised_91.png\n",
      "denoised_92.png\n",
      "denoised_93.png\n",
      "denoised_94.png\n",
      "denoised_95.png\n",
      "denoised_96.png\n",
      "denoised_97.png\n",
      "denoised_98.png\n",
      "denoised_99.png\n",
      "denoised_100.png\n",
      "denoised_101.png\n",
      "denoised_102.png\n",
      "denoised_103.png\n",
      "denoised_104.png\n",
      "denoised_105.png\n",
      "denoised_106.png\n",
      "denoised_107.png\n",
      "denoised_108.png\n",
      "denoised_109.png\n",
      "denoised_110.png\n",
      "denoised_111.png\n",
      "denoised_112.png\n",
      "denoised_113.png\n",
      "denoised_114.png\n",
      "denoised_115.png\n",
      "denoised_116.png\n",
      "denoised_117.png\n",
      "denoised_118.png\n",
      "denoised_119.png\n",
      "denoised_120.png\n",
      "denoised_121.png\n",
      "denoised_122.png\n",
      "denoised_123.png\n",
      "denoised_124.png\n",
      "denoised_125.png\n",
      "denoised_126.png\n",
      "denoised_127.png\n",
      "denoised_128.png\n",
      "denoised_129.png\n",
      "denoised_130.png\n",
      "denoised_131.png\n",
      "denoised_132.png\n",
      "denoised_133.png\n",
      "denoised_134.png\n",
      "denoised_135.png\n",
      "denoised_136.png\n",
      "denoised_137.png\n",
      "denoised_138.png\n",
      "denoised_139.png\n",
      "denoised_140.png\n",
      "denoised_141.png\n",
      "denoised_142.png\n",
      "denoised_143.png\n",
      "denoised_144.png\n",
      "denoised_145.png\n",
      "denoised_146.png\n",
      "denoised_147.png\n",
      "denoised_148.png\n",
      "denoised_149.png\n",
      "denoised_150.png\n",
      "denoised_151.png\n",
      "denoised_152.png\n",
      "denoised_153.png\n",
      "denoised_154.png\n",
      "denoised_155.png\n",
      "denoised_156.png\n",
      "denoised_157.png\n",
      "denoised_158.png\n",
      "denoised_159.png\n",
      "denoised_160.png\n",
      "denoised_161.png\n",
      "denoised_162.png\n",
      "denoised_163.png\n",
      "denoised_164.png\n",
      "denoised_165.png\n",
      "denoised_166.png\n",
      "denoised_167.png\n",
      "denoised_168.png\n",
      "denoised_169.png\n",
      "denoised_170.png\n",
      "denoised_171.png\n",
      "denoised_172.png\n",
      "denoised_173.png\n",
      "denoised_174.png\n",
      "denoised_175.png\n",
      "denoised_176.png\n",
      "denoised_177.png\n",
      "denoised_178.png\n",
      "denoised_179.png\n",
      "denoised_180.png\n",
      "denoised_181.png\n",
      "denoised_182.png\n",
      "denoised_183.png\n",
      "denoised_184.png\n",
      "denoised_185.png\n",
      "denoised_186.png\n",
      "denoised_187.png\n",
      "denoised_188.png\n",
      "denoised_189.png\n",
      "denoised_190.png\n",
      "denoised_191.png\n",
      "denoised_192.png\n",
      "denoised_193.png\n",
      "denoised_194.png\n",
      "denoised_195.png\n",
      "denoised_196.png\n",
      "denoised_197.png\n",
      "denoised_198.png\n",
      "denoised_199.png\n",
      "denoised_200.png\n",
      "denoised_201.png\n",
      "denoised_202.png\n",
      "denoised_203.png\n",
      "denoised_204.png\n",
      "denoised_205.png\n",
      "denoised_206.png\n",
      "denoised_207.png\n",
      "denoised_208.png\n",
      "denoised_209.png\n",
      "denoised_210.png\n",
      "denoised_211.png\n",
      "denoised_212.png\n",
      "denoised_213.png\n",
      "denoised_214.png\n",
      "denoised_215.png\n",
      "denoised_216.png\n",
      "denoised_217.png\n",
      "denoised_218.png\n",
      "denoised_219.png\n",
      "denoised_220.png\n",
      "denoised_221.png\n",
      "denoised_222.png\n",
      "denoised_223.png\n",
      "denoised_224.png\n",
      "denoised_225.png\n",
      "denoised_226.png\n",
      "denoised_227.png\n",
      "denoised_228.png\n",
      "denoised_229.png\n",
      "denoised_230.png\n",
      "denoised_231.png\n",
      "denoised_232.png\n",
      "denoised_233.png\n",
      "denoised_234.png\n",
      "denoised_235.png\n",
      "denoised_236.png\n",
      "denoised_237.png\n",
      "denoised_238.png\n",
      "denoised_239.png\n",
      "denoised_240.png\n",
      "denoised_241.png\n",
      "denoised_242.png\n",
      "denoised_243.png\n",
      "denoised_244.png\n",
      "denoised_245.png\n",
      "denoised_246.png\n",
      "denoised_247.png\n",
      "denoised_248.png\n",
      "denoised_249.png\n",
      "denoised_250.png\n",
      "denoised_251.png\n",
      "denoised_252.png\n",
      "denoised_253.png\n",
      "denoised_254.png\n",
      "denoised_255.png\n",
      "denoised_256.png\n",
      "denoised_257.png\n",
      "denoised_258.png\n",
      "denoised_259.png\n",
      "denoised_260.png\n",
      "denoised_261.png\n",
      "denoised_262.png\n",
      "denoised_263.png\n",
      "denoised_264.png\n",
      "denoised_265.png\n",
      "denoised_266.png\n",
      "denoised_267.png\n",
      "denoised_268.png\n",
      "denoised_269.png\n",
      "denoised_270.png\n",
      "denoised_271.png\n",
      "denoised_272.png\n",
      "denoised_273.png\n",
      "denoised_274.png\n",
      "denoised_275.png\n",
      "denoised_276.png\n",
      "denoised_277.png\n",
      "denoised_278.png\n",
      "denoised_279.png\n",
      "denoised_280.png\n",
      "denoised_281.png\n",
      "denoised_282.png\n",
      "denoised_283.png\n",
      "denoised_284.png\n",
      "denoised_285.png\n",
      "denoised_286.png\n",
      "denoised_287.png\n",
      "denoised_288.png\n",
      "denoised_289.png\n",
      "denoised_290.png\n",
      "denoised_291.png\n",
      "denoised_292.png\n",
      "denoised_293.png\n",
      "denoised_294.png\n",
      "denoised_295.png\n",
      "denoised_296.png\n",
      "denoised_297.png\n",
      "denoised_298.png\n",
      "denoised_299.png\n",
      "denoised_300.png\n",
      "denoised_301.png\n",
      "denoised_302.png\n",
      "denoised_303.png\n",
      "denoised_304.png\n",
      "denoised_305.png\n",
      "denoised_306.png\n",
      "denoised_307.png\n",
      "denoised_308.png\n",
      "denoised_309.png\n",
      "denoised_310.png\n",
      "denoised_311.png\n",
      "denoised_312.png\n",
      "denoised_313.png\n",
      "denoised_314.png\n",
      "denoised_315.png\n",
      "denoised_316.png\n",
      "denoised_317.png\n",
      "denoised_318.png\n",
      "denoised_319.png\n",
      "denoised_320.png\n",
      "denoised_321.png\n",
      "denoised_322.png\n",
      "denoised_323.png\n",
      "denoised_324.png\n",
      "denoised_325.png\n",
      "denoised_326.png\n",
      "denoised_327.png\n",
      "denoised_328.png\n",
      "denoised_329.png\n",
      "denoised_330.png\n",
      "denoised_331.png\n",
      "denoised_332.png\n",
      "denoised_333.png\n",
      "denoised_334.png\n",
      "denoised_335.png\n",
      "denoised_336.png\n",
      "denoised_337.png\n",
      "denoised_338.png\n",
      "denoised_339.png\n",
      "denoised_340.png\n",
      "denoised_341.png\n",
      "denoised_342.png\n",
      "denoised_343.png\n",
      "denoised_344.png\n",
      "denoised_345.png\n",
      "denoised_346.png\n",
      "denoised_347.png\n",
      "denoised_348.png\n",
      "denoised_349.png\n",
      "denoised_350.png\n",
      "denoised_351.png\n",
      "denoised_352.png\n",
      "denoised_353.png\n",
      "denoised_354.png\n",
      "denoised_355.png\n",
      "denoised_356.png\n",
      "denoised_357.png\n",
      "denoised_358.png\n",
      "denoised_359.png\n",
      "denoised_360.png\n",
      "denoised_361.png\n",
      "denoised_362.png\n",
      "denoised_363.png\n",
      "denoised_364.png\n",
      "denoised_365.png\n",
      "denoised_366.png\n",
      "denoised_367.png\n",
      "denoised_368.png\n",
      "denoised_369.png\n",
      "denoised_370.png\n",
      "denoised_371.png\n",
      "denoised_372.png\n",
      "denoised_373.png\n",
      "denoised_374.png\n",
      "denoised_375.png\n",
      "denoised_376.png\n",
      "denoised_377.png\n",
      "denoised_378.png\n",
      "denoised_379.png\n",
      "denoised_380.png\n",
      "denoised_381.png\n",
      "denoised_382.png\n",
      "denoised_383.png\n",
      "denoised_384.png\n",
      "denoised_385.png\n",
      "denoised_386.png\n",
      "denoised_387.png\n",
      "denoised_388.png\n",
      "denoised_389.png\n",
      "denoised_390.png\n",
      "denoised_391.png\n",
      "denoised_392.png\n",
      "denoised_393.png\n",
      "denoised_394.png\n",
      "denoised_395.png\n",
      "denoised_396.png\n",
      "denoised_397.png\n",
      "denoised_398.png\n",
      "denoised_399.png\n",
      "denoised_400.png\n",
      "denoised_401.png\n",
      "denoised_402.png\n",
      "denoised_403.png\n",
      "denoised_404.png\n",
      "denoised_405.png\n",
      "denoised_406.png\n",
      "denoised_407.png\n",
      "denoised_408.png\n",
      "denoised_409.png\n",
      "denoised_410.png\n",
      "denoised_411.png\n",
      "denoised_412.png\n",
      "denoised_413.png\n",
      "denoised_414.png\n",
      "denoised_415.png\n",
      "denoised_416.png\n",
      "denoised_417.png\n",
      "denoised_418.png\n",
      "denoised_419.png\n",
      "denoised_420.png\n",
      "denoised_421.png\n",
      "denoised_422.png\n",
      "denoised_423.png\n",
      "denoised_424.png\n",
      "denoised_425.png\n",
      "denoised_426.png\n",
      "denoised_427.png\n",
      "denoised_428.png\n",
      "denoised_429.png\n",
      "denoised_430.png\n",
      "denoised_431.png\n",
      "denoised_432.png\n",
      "denoised_433.png\n",
      "denoised_434.png\n",
      "denoised_435.png\n",
      "denoised_436.png\n",
      "denoised_437.png\n",
      "denoised_438.png\n",
      "denoised_439.png\n",
      "denoised_440.png\n",
      "denoised_441.png\n",
      "denoised_442.png\n",
      "denoised_443.png\n",
      "denoised_444.png\n",
      "denoised_445.png\n",
      "denoised_446.png\n",
      "denoised_447.png\n",
      "denoised_448.png\n",
      "denoised_449.png\n",
      "denoised_450.png\n",
      "denoised_451.png\n",
      "denoised_452.png\n",
      "denoised_453.png\n",
      "denoised_454.png\n",
      "denoised_455.png\n",
      "denoised_456.png\n",
      "denoised_457.png\n",
      "denoised_458.png\n",
      "denoised_459.png\n",
      "denoised_460.png\n",
      "denoised_461.png\n",
      "denoised_462.png\n",
      "denoised_463.png\n",
      "denoised_464.png\n",
      "denoised_465.png\n",
      "denoised_466.png\n",
      "denoised_467.png\n",
      "denoised_468.png\n",
      "denoised_469.png\n",
      "denoised_470.png\n",
      "denoised_471.png\n",
      "denoised_472.png\n",
      "denoised_473.png\n",
      "denoised_474.png\n",
      "denoised_475.png\n",
      "denoised_476.png\n",
      "denoised_477.png\n",
      "denoised_478.png\n",
      "denoised_479.png\n",
      "denoised_480.png\n",
      "denoised_481.png\n",
      "denoised_482.png\n",
      "denoised_483.png\n",
      "denoised_484.png\n",
      "denoised_485.png\n",
      "denoised_486.png\n",
      "denoised_487.png\n",
      "denoised_488.png\n",
      "denoised_489.png\n",
      "denoised_490.png\n",
      "denoised_491.png\n",
      "denoised_492.png\n",
      "denoised_493.png\n",
      "denoised_494.png\n",
      "denoised_495.png\n",
      "denoised_496.png\n",
      "denoised_497.png\n",
      "denoised_498.png\n",
      "denoised_499.png\n",
      "denoised_500.png\n",
      "denoised_501.png\n",
      "denoised_502.png\n",
      "denoised_503.png\n",
      "denoised_504.png\n",
      "denoised_505.png\n",
      "denoised_506.png\n",
      "denoised_507.png\n",
      "denoised_508.png\n",
      "denoised_509.png\n",
      "denoised_510.png\n",
      "denoised_511.png\n",
      "denoised_512.png\n",
      "denoised_513.png\n",
      "denoised_514.png\n",
      "denoised_515.png\n",
      "denoised_516.png\n",
      "denoised_517.png\n",
      "denoised_518.png\n",
      "denoised_519.png\n",
      "denoised_520.png\n",
      "denoised_521.png\n",
      "denoised_522.png\n",
      "denoised_523.png\n",
      "denoised_524.png\n",
      "denoised_525.png\n",
      "denoised_526.png\n",
      "denoised_527.png\n",
      "denoised_528.png\n",
      "denoised_529.png\n",
      "denoised_530.png\n",
      "denoised_531.png\n",
      "denoised_532.png\n",
      "denoised_533.png\n",
      "denoised_534.png\n",
      "denoised_535.png\n",
      "denoised_536.png\n",
      "denoised_537.png\n",
      "denoised_538.png\n",
      "denoised_539.png\n",
      "denoised_540.png\n",
      "denoised_541.png\n",
      "denoised_542.png\n",
      "denoised_543.png\n",
      "denoised_544.png\n",
      "denoised_545.png\n",
      "denoised_546.png\n",
      "denoised_547.png\n",
      "denoised_548.png\n",
      "denoised_549.png\n",
      "denoised_550.png\n",
      "denoised_551.png\n",
      "denoised_552.png\n",
      "denoised_553.png\n",
      "denoised_554.png\n",
      "denoised_555.png\n",
      "denoised_556.png\n",
      "denoised_557.png\n",
      "denoised_558.png\n",
      "denoised_559.png\n",
      "denoised_560.png\n",
      "denoised_561.png\n",
      "denoised_562.png\n",
      "denoised_563.png\n",
      "denoised_564.png\n",
      "denoised_565.png\n",
      "denoised_566.png\n",
      "denoised_567.png\n",
      "denoised_568.png\n",
      "denoised_569.png\n",
      "denoised_570.png\n",
      "denoised_571.png\n",
      "denoised_572.png\n",
      "denoised_573.png\n",
      "denoised_574.png\n",
      "denoised_575.png\n",
      "denoised_576.png\n",
      "denoised_577.png\n",
      "denoised_578.png\n",
      "denoised_579.png\n",
      "denoised_580.png\n",
      "denoised_581.png\n",
      "denoised_582.png\n",
      "denoised_583.png\n",
      "denoised_584.png\n",
      "denoised_585.png\n",
      "denoised_586.png\n",
      "denoised_587.png\n",
      "denoised_588.png\n",
      "denoised_589.png\n",
      "denoised_590.png\n",
      "denoised_591.png\n",
      "denoised_592.png\n",
      "denoised_593.png\n",
      "denoised_594.png\n",
      "denoised_595.png\n",
      "denoised_596.png\n",
      "denoised_597.png\n",
      "denoised_598.png\n",
      "denoised_599.png\n",
      "denoised_600.png\n",
      "denoised_601.png\n",
      "denoised_602.png\n",
      "denoised_603.png\n",
      "denoised_604.png\n",
      "denoised_605.png\n",
      "denoised_606.png\n",
      "denoised_607.png\n",
      "denoised_608.png\n",
      "denoised_609.png\n",
      "denoised_610.png\n",
      "denoised_611.png\n",
      "denoised_612.png\n",
      "denoised_613.png\n",
      "denoised_614.png\n",
      "denoised_615.png\n",
      "denoised_616.png\n",
      "denoised_617.png\n",
      "denoised_618.png\n",
      "denoised_619.png\n",
      "denoised_620.png\n",
      "denoised_621.png\n",
      "denoised_622.png\n",
      "denoised_623.png\n",
      "denoised_624.png\n",
      "denoised_625.png\n",
      "denoised_626.png\n",
      "denoised_627.png\n",
      "denoised_628.png\n",
      "denoised_629.png\n",
      "denoised_630.png\n",
      "denoised_631.png\n",
      "denoised_632.png\n",
      "denoised_633.png\n",
      "denoised_634.png\n",
      "denoised_635.png\n",
      "denoised_636.png\n",
      "denoised_637.png\n",
      "denoised_638.png\n",
      "denoised_639.png\n",
      "denoised_640.png\n",
      "denoised_641.png\n",
      "denoised_642.png\n",
      "denoised_643.png\n",
      "denoised_644.png\n",
      "denoised_645.png\n",
      "denoised_646.png\n",
      "denoised_647.png\n",
      "denoised_648.png\n",
      "denoised_649.png\n",
      "denoised_650.png\n",
      "denoised_651.png\n",
      "denoised_652.png\n",
      "denoised_653.png\n",
      "denoised_654.png\n",
      "denoised_655.png\n",
      "denoised_656.png\n",
      "denoised_657.png\n",
      "denoised_658.png\n",
      "denoised_659.png\n",
      "denoised_660.png\n",
      "denoised_661.png\n",
      "denoised_662.png\n",
      "denoised_663.png\n",
      "denoised_664.png\n",
      "denoised_665.png\n",
      "denoised_666.png\n",
      "denoised_667.png\n",
      "denoised_668.png\n",
      "denoised_669.png\n",
      "denoised_670.png\n",
      "denoised_671.png\n",
      "denoised_672.png\n",
      "denoised_673.png\n",
      "denoised_674.png\n",
      "denoised_675.png\n",
      "denoised_676.png\n",
      "denoised_677.png\n",
      "denoised_678.png\n",
      "denoised_679.png\n",
      "denoised_680.png\n",
      "denoised_681.png\n",
      "denoised_682.png\n",
      "denoised_683.png\n",
      "denoised_684.png\n",
      "denoised_685.png\n",
      "denoised_686.png\n",
      "denoised_687.png\n",
      "denoised_688.png\n",
      "denoised_689.png\n",
      "denoised_690.png\n",
      "denoised_691.png\n",
      "denoised_692.png\n",
      "denoised_693.png\n",
      "denoised_694.png\n",
      "denoised_695.png\n",
      "denoised_696.png\n",
      "denoised_697.png\n",
      "denoised_698.png\n",
      "denoised_699.png\n",
      "denoised_700.png\n",
      "denoised_701.png\n",
      "denoised_702.png\n",
      "denoised_703.png\n",
      "denoised_704.png\n",
      "denoised_705.png\n",
      "denoised_706.png\n",
      "denoised_707.png\n",
      "denoised_708.png\n",
      "denoised_709.png\n",
      "denoised_710.png\n",
      "denoised_711.png\n",
      "denoised_712.png\n",
      "denoised_713.png\n",
      "denoised_714.png\n",
      "denoised_715.png\n",
      "denoised_716.png\n",
      "denoised_717.png\n",
      "denoised_718.png\n",
      "denoised_719.png\n",
      "denoised_720.png\n",
      "denoised_721.png\n",
      "denoised_722.png\n",
      "denoised_723.png\n",
      "denoised_724.png\n",
      "denoised_725.png\n",
      "denoised_726.png\n",
      "denoised_727.png\n",
      "denoised_728.png\n",
      "denoised_729.png\n",
      "denoised_730.png\n",
      "denoised_731.png\n",
      "denoised_732.png\n",
      "denoised_733.png\n",
      "denoised_734.png\n",
      "denoised_735.png\n",
      "denoised_736.png\n",
      "denoised_737.png\n",
      "denoised_738.png\n",
      "denoised_739.png\n",
      "denoised_740.png\n",
      "denoised_741.png\n",
      "denoised_742.png\n",
      "denoised_743.png\n",
      "denoised_744.png\n",
      "denoised_745.png\n",
      "denoised_746.png\n",
      "denoised_747.png\n",
      "denoised_748.png\n",
      "denoised_749.png\n",
      "denoised_750.png\n",
      "denoised_751.png\n",
      "denoised_752.png\n",
      "denoised_753.png\n",
      "denoised_754.png\n",
      "denoised_755.png\n",
      "denoised_756.png\n",
      "denoised_757.png\n",
      "denoised_758.png\n",
      "denoised_759.png\n",
      "denoised_760.png\n",
      "denoised_761.png\n",
      "denoised_762.png\n",
      "denoised_763.png\n",
      "denoised_764.png\n",
      "denoised_765.png\n",
      "denoised_766.png\n",
      "denoised_767.png\n",
      "denoised_768.png\n",
      "denoised_769.png\n",
      "denoised_770.png\n"
     ]
    }
   ],
   "source": [
    "images = []\n",
    "for filename in filenames :\n",
    "    filepath = os.path.join(root,filename)\n",
    "    image = ndimage.imread(filepath, mode = \"L\")\n",
    "    images.append(image)\n",
    "    print(filename)"
   ]
  },
  {
   "cell_type": "code",
   "execution_count": 9,
   "metadata": {},
   "outputs": [
    {
     "data": {
      "text/plain": [
       "<matplotlib.image.AxesImage at 0x7f5ccea02210>"
      ]
     },
     "execution_count": 9,
     "metadata": {},
     "output_type": "execute_result"
    },
    {
     "data": {
      "image/png": "[encoded data removed]",
      "text/plain": [
       "<matplotlib.figure.Figure at 0x7f5ccedac190>"
      ]
     },
     "metadata": {},
     "output_type": "display_data"
    }
   ],
   "source": [
    "plt.imshow(images[0],cmap = \"gray\")"
   ]
  },
  {
   "cell_type": "code",
   "execution_count": 10,
   "metadata": {},
   "outputs": [
    {
     "name": "stdout",
     "output_type": "stream",
     "text": [
      "(216, 64)\n"
     ]
    }
   ],
   "source": [
    "print (images[0].shape)\n"
   ]
  },
  {
   "cell_type": "code",
   "execution_count": 11,
   "metadata": {
    "collapsed": true
   },
   "outputs": [],
   "source": [
    "labels = np.load('resized_cropped_labeledimages.npy')\n",
    "labels_list = []\n",
    "for i in range(len(labels)):\n",
    "    labels_list.append(labels[i])"
   ]
  },
  {
   "cell_type": "code",
   "execution_count": 12,
   "metadata": {},
   "outputs": [
    {
     "name": "stdout",
     "output_type": "stream",
     "text": [
      "(216, 64)\n"
     ]
    }
   ],
   "source": [
    "print(labels_list[0].shape)"
   ]
  },
  {
   "cell_type": "code",
   "execution_count": 13,
   "metadata": {},
   "outputs": [
    {
     "data": {
      "text/plain": [
       "0.0"
      ]
     },
     "execution_count": 13,
     "metadata": {},
     "output_type": "execute_result"
    }
   ],
   "source": [
    "labels_list[0][0][0]"
   ]
  },
  {
   "cell_type": "code",
   "execution_count": 14,
   "metadata": {
    "collapsed": true
   },
   "outputs": [],
   "source": [
    "train_labels = np.zeros((770,216,64,8))"
   ]
  },
  {
   "cell_type": "code",
   "execution_count": 15,
   "metadata": {
    "collapsed": true
   },
   "outputs": [],
   "source": [
    "for i in range(len(labels_list)) :\n",
    "    for j in range(216) :\n",
    "        for k in range(64):\n",
    "            if(labels_list[i][j][k] == 0):\n",
    "                train_labels[i][j][k][0] = 1\n",
    "            if(labels_list[i][j][k] == 1):\n",
    "                train_labels[i][j][k][1] = 1\n",
    "            if(labels_list[i][j][k] == 2):\n",
    "                train_labels[i][j][k][2] = 1\n",
    "            if(labels_list[i][j][k] == 3):\n",
    "                train_labels[i][j][k][3] = 1\n",
    "            if(labels_list[i][j][k] == 4):\n",
    "                train_labels[i][j][k][4] = 1\n",
    "            if(labels_list[i][j][k] == 5):\n",
    "                train_labels[i][j][k][5] = 1\n",
    "            if(labels_list[i][j][k] == 6):\n",
    "                train_labels[i][j][k][6] = 1\n",
    "            if(labels_list[i][j][k] == 7):\n",
    "                train_labels[i][j][k][7] = 1"
   ]
  },
  {
   "cell_type": "code",
   "execution_count": 16,
   "metadata": {},
   "outputs": [
    {
     "data": {
      "text/plain": [
       "(770, 216, 64, 8)"
      ]
     },
     "execution_count": 16,
     "metadata": {},
     "output_type": "execute_result"
    }
   ],
   "source": [
    "train_labels.shape"
   ]
  },
  {
   "cell_type": "code",
   "execution_count": 17,
   "metadata": {},
   "outputs": [
    {
     "data": {
      "text/plain": [
       "array([ 1.,  0.,  0.,  0.,  0.,  0.,  0.,  0.])"
      ]
     },
     "execution_count": 17,
     "metadata": {},
     "output_type": "execute_result"
    }
   ],
   "source": [
    "train_labels[0][0][0]"
   ]
  },
  {
   "cell_type": "code",
   "execution_count": 18,
   "metadata": {},
   "outputs": [
    {
     "name": "stdout",
     "output_type": "stream",
     "text": [
      "770\n",
      "(216, 64, 1)\n",
      "[2, 4, 5, 6, 8, 10, 11, 12, 14, 15, 16, 17, 19, 20, 21, 22, 23, 26, 28, 29, 30, 31, 32, 33, 34, 35, 37, 38, 40, 41, 42, 43, 45, 47, 49, 50, 51, 52, 53, 54, 56, 57, 59, 61, 62, 63, 64, 65, 66, 68, 69, 70, 72, 73, 76, 77, 80, 81, 82, 83, 86, 87, 89, 91, 96, 97, 98, 99, 101, 103, 104, 105, 106, 107, 108, 110, 111, 113, 114, 116, 117, 118, 119, 120, 122, 124, 126, 128, 129, 130, 131, 132, 133, 138, 139, 140, 144, 147, 149, 152, 154, 155, 156, 157, 158, 159, 161, 164, 165, 166, 170, 172, 174, 175, 177, 178, 179, 180, 181, 182, 183, 184, 185, 186, 187, 188, 189, 190, 191, 192, 195, 196, 197, 198, 199, 200, 201, 202, 205, 207, 208, 210, 211, 213, 215, 218, 219, 220, 221, 222, 223, 224, 226, 227, 228, 231, 232, 233, 234, 237, 240, 242, 243, 244, 245, 246, 248, 250, 251, 252, 253, 254, 255, 256, 257, 258, 259, 261, 262, 263, 264, 265, 266, 267, 269, 270, 272, 273, 274, 275, 276, 277, 280, 281, 285, 286, 288, 289, 292, 295, 296, 297, 298, 301, 303, 305, 306, 309, 310, 311, 312, 313, 315, 316, 317, 318, 319, 320, 322, 323, 325, 326, 327, 328, 329, 331, 332, 333, 334, 335, 336, 337, 338, 339, 340, 341, 342, 343, 344, 345, 346, 348, 349, 350, 351, 352, 355, 361, 362, 363, 365, 366, 367, 369, 371, 374, 376, 379, 381, 382, 384, 385, 386, 388, 390, 392, 393, 394, 397, 398, 399, 402, 405, 406, 407, 410, 411, 414, 415, 417, 418, 419, 420, 422, 423, 425, 426, 429, 430, 431, 432, 435, 438, 439, 440, 442, 443, 444, 445, 446, 448, 450, 451, 454, 455, 457, 459, 463, 464, 465, 466, 468, 470, 471, 476, 478, 481, 482, 483, 484, 486, 487, 488, 491, 492, 494, 495, 497, 498, 499, 500, 501, 502, 503, 504, 505, 506, 507, 508, 509, 510, 513, 515, 516, 517, 520, 521, 522, 525, 526, 529, 530, 531, 533, 534, 538, 539, 542, 543, 544, 545, 546, 547, 549, 552, 554, 555, 556, 559, 561, 562, 564, 566, 567, 568, 571, 573, 574, 575, 576, 578, 579, 583, 588, 591, 592, 594, 595, 597, 600, 601, 609, 610, 613, 616, 620, 622, 623, 624, 627, 628, 629, 630, 633, 634, 636, 640, 641, 642, 645, 646, 647, 648, 649, 650, 651, 652, 654, 659, 661, 663, 664, 665, 666, 667, 668, 669, 671, 672, 673, 675, 678, 679, 680, 681, 682, 685, 686, 688, 690, 691, 694, 695, 696, 697, 701, 702, 703, 705, 706, 707, 708, 709, 710, 711, 712, 714, 715, 717, 718, 719, 721, 722, 723, 724, 725, 726, 727, 729, 731, 732, 734, 736, 737, 738, 739, 740, 741, 742, 743, 744, 745, 746, 748, 749, 750, 751, 752, 753, 756, 757, 758, 759, 762, 763, 764, 765, 766, 768, 769]\n",
      "[0, 1, 3, 7, 9, 13, 18, 24, 25, 27, 36, 39, 44, 46, 48, 55, 58, 60, 67, 71, 74, 75, 78, 79, 84, 85, 88, 90, 92, 93, 94, 95, 100, 102, 109, 112, 115, 121, 123, 125, 127, 134, 135, 136, 137, 141, 142, 143, 145, 146, 148, 150, 151, 153, 160, 162, 163, 167, 168, 169, 171, 173, 176, 193, 194, 203, 204, 206, 209, 212, 214, 216, 217, 225, 229, 230, 235, 236, 238, 239, 241, 247, 249, 260, 268, 271, 278, 279, 282, 283, 284, 287, 290, 291, 293, 294, 299, 300, 302, 304, 307, 308, 314, 321, 324, 330, 347, 353, 354, 356, 357, 358, 359, 360, 364, 368, 370, 372, 373, 375, 377, 378, 380, 383, 387, 389, 391, 395, 396, 400, 401, 403, 404, 408, 409, 412, 413, 416, 421, 424, 427, 428, 433, 434, 436, 437, 441, 447, 449, 452, 453, 456, 458, 460, 461, 462, 467, 469, 472, 473, 474, 475, 477, 479, 480, 485, 489, 490, 493, 496, 511, 512, 514, 518, 519, 523, 524, 527, 528, 532, 535, 536, 537, 540, 541, 548, 550, 551, 553, 557, 558, 560, 563, 565, 569, 570, 572, 577, 580, 581, 582, 584, 585, 586, 587, 589, 590, 593, 596, 598, 599, 602, 603, 604, 605, 606, 607, 608, 611, 612, 614, 615, 617, 618, 619, 621, 625, 626, 631, 632, 635, 637, 638, 639, 643, 644, 653, 655, 656, 657, 658, 660, 662, 670, 674, 676, 677, 683, 684, 687, 689, 692, 693, 698, 699, 700, 704, 713, 716, 720, 728, 730, 733, 735, 747, 754, 755, 760, 761, 767]\n"
     ]
    }
   ],
   "source": [
    "images=np.array(images)\n",
    "print(images.shape[0])\n",
    "images = images.reshape(images.shape[0],216,64,1)\n",
    "\n",
    "print(images[0].shape)\n",
    "train_indices = np.random.choice(770,500,replace = False)\n",
    "print(sorted(train_indices))\n",
    "train_images_random = []\n",
    "train_labels_random = []\n",
    "\n",
    "for i in train_indices:\n",
    "    train_images_random.append(images[i])\n",
    "    train_labels_random.append(train_labels[i])\n",
    "\n",
    "test_indices = [x for x in range(770) if x not in train_indices]\n",
    "print(test_indices)\n",
    "test_images = []\n",
    "test_labels = []\n",
    "for i in test_indices:\n",
    "    test_images.append(images[i])\n",
    "    test_labels.append(train_labels[i])"
   ]
  },
  {
   "cell_type": "code",
   "execution_count": 19,
   "metadata": {
    "collapsed": true
   },
   "outputs": [],
   "source": [
    "train_images = np.array(train_images_random)\n",
    "train_labels = np.array(train_labels_random)\n",
    "test_images = np.array(test_images)\n",
    "test_labels = np.array(test_labels)"
   ]
  },
  {
   "cell_type": "code",
   "execution_count": 20,
   "metadata": {
    "collapsed": true
   },
   "outputs": [],
   "source": [
    "train_images = train_images.astype('float32')\n",
    "train_labels = train_labels.astype('float32')\n",
    "test_images = test_images.astype('float32')\n",
    "test_labels = test_labels.astype('float32')"
   ]
  },
  {
   "cell_type": "code",
   "execution_count": 21,
   "metadata": {},
   "outputs": [
    {
     "name": "stdout",
     "output_type": "stream",
     "text": [
      "(500, 216, 64, 1)\n",
      "(270, 216, 64, 1)\n",
      "(500, 216, 64, 8)\n"
     ]
    }
   ],
   "source": [
    "print(train_images.shape)\n",
    "print(test_images.shape)\n",
    "print(train_labels.shape)"
   ]
  },
  {
   "cell_type": "code",
   "execution_count": 22,
   "metadata": {},
   "outputs": [
    {
     "name": "stdout",
     "output_type": "stream",
     "text": [
      "[[[  2.]\n",
      "  [  0.]\n",
      "  [  0.]\n",
      "  ..., \n",
      "  [ 11.]\n",
      "  [ 18.]\n",
      "  [ 13.]]\n",
      "\n",
      " [[  0.]\n",
      "  [  0.]\n",
      "  [  0.]\n",
      "  ..., \n",
      "  [ 10.]\n",
      "  [ 16.]\n",
      "  [ 17.]]\n",
      "\n",
      " [[  2.]\n",
      "  [  4.]\n",
      "  [  1.]\n",
      "  ..., \n",
      "  [ 10.]\n",
      "  [ 17.]\n",
      "  [ 19.]]\n",
      "\n",
      " ..., \n",
      " [[ 24.]\n",
      "  [ 23.]\n",
      "  [ 22.]\n",
      "  ..., \n",
      "  [ 13.]\n",
      "  [ 12.]\n",
      "  [ 12.]]\n",
      "\n",
      " [[ 24.]\n",
      "  [ 24.]\n",
      "  [ 23.]\n",
      "  ..., \n",
      "  [ 12.]\n",
      "  [ 13.]\n",
      "  [ 14.]]\n",
      "\n",
      " [[ 25.]\n",
      "  [ 24.]\n",
      "  [ 23.]\n",
      "  ..., \n",
      "  [ 12.]\n",
      "  [ 13.]\n",
      "  [ 14.]]]\n"
     ]
    }
   ],
   "source": [
    "print(train_images[0])"
   ]
  },
  {
   "cell_type": "code",
   "execution_count": 23,
   "metadata": {},
   "outputs": [
    {
     "name": "stdout",
     "output_type": "stream",
     "text": [
      "500\n",
      "500\n",
      "(500, 216, 64, 8)\n"
     ]
    }
   ],
   "source": [
    "print (len(train_images))\n",
    "print (len(train_labels))\n",
    "print (np.array(train_labels).shape)"
   ]
  },
  {
   "cell_type": "code",
   "execution_count": 24,
   "metadata": {},
   "outputs": [
    {
     "data": {
      "text/plain": [
       "(500, 216, 64, 1)"
      ]
     },
     "execution_count": 24,
     "metadata": {},
     "output_type": "execute_result"
    }
   ],
   "source": [
    "train_images.shape"
   ]
  },
  {
   "cell_type": "code",
   "execution_count": 25,
   "metadata": {},
   "outputs": [
    {
     "data": {
      "text/plain": [
       "500"
      ]
     },
     "execution_count": 25,
     "metadata": {},
     "output_type": "execute_result"
    }
   ],
   "source": [
    "len(train_images)"
   ]
  },
  {
   "cell_type": "code",
   "execution_count": 26,
   "metadata": {
    "collapsed": true
   },
   "outputs": [],
   "source": [
    "data_shape = 216*64"
   ]
  },
  {
   "cell_type": "code",
   "execution_count": 27,
   "metadata": {
    "collapsed": true
   },
   "outputs": [],
   "source": [
    "weight_decay = 0.0001"
   ]
  },
  {
   "cell_type": "code",
   "execution_count": 28,
   "metadata": {},
   "outputs": [
    {
     "name": "stdout",
     "output_type": "stream",
     "text": [
      "_________________________________________________________________\n",
      "Layer (type)                 Output Shape              Param #   \n",
      "=================================================================\n",
      "input_1 (InputLayer)         (None, 216, 64, 1)        0         \n",
      "_________________________________________________________________\n",
      "conv2d_1 (Conv2D)            (None, 216, 64, 64)       640       \n",
      "_________________________________________________________________\n",
      "batch_normalization_1 (Batch (None, 216, 64, 64)       256       \n",
      "_________________________________________________________________\n",
      "activation_1 (Activation)    (None, 216, 64, 64)       0         \n",
      "_________________________________________________________________\n",
      "max_pooling2d_1 (MaxPooling2 (None, 108, 32, 64)       0         \n",
      "_________________________________________________________________\n",
      "conv2d_2 (Conv2D)            (None, 108, 32, 64)       36928     \n",
      "_________________________________________________________________\n",
      "batch_normalization_2 (Batch (None, 108, 32, 64)       256       \n",
      "_________________________________________________________________\n",
      "activation_2 (Activation)    (None, 108, 32, 64)       0         \n",
      "_________________________________________________________________\n",
      "max_pooling2d_2 (MaxPooling2 (None, 54, 16, 64)        0         \n",
      "_________________________________________________________________\n",
      "conv2d_3 (Conv2D)            (None, 54, 16, 64)        36928     \n",
      "_________________________________________________________________\n",
      "batch_normalization_3 (Batch (None, 54, 16, 64)        256       \n",
      "_________________________________________________________________\n",
      "activation_3 (Activation)    (None, 54, 16, 64)        0         \n",
      "_________________________________________________________________\n",
      "max_pooling2d_3 (MaxPooling2 (None, 27, 8, 64)         0         \n",
      "_________________________________________________________________\n",
      "conv2d_4 (Conv2D)            (None, 27, 8, 64)         36928     \n",
      "_________________________________________________________________\n",
      "batch_normalization_4 (Batch (None, 27, 8, 64)         256       \n",
      "_________________________________________________________________\n",
      "activation_4 (Activation)    (None, 27, 8, 64)         0         \n",
      "_________________________________________________________________\n",
      "up_sampling2d_1 (UpSampling2 (None, 54, 16, 64)        0         \n",
      "_________________________________________________________________\n",
      "concatenate_1 (Concatenate)  (None, 54, 16, 128)       0         \n",
      "_________________________________________________________________\n",
      "conv2d_5 (Conv2D)            (None, 54, 16, 64)        73792     \n",
      "_________________________________________________________________\n",
      "batch_normalization_5 (Batch (None, 54, 16, 64)        256       \n",
      "_________________________________________________________________\n",
      "activation_5 (Activation)    (None, 54, 16, 64)        0         \n",
      "_________________________________________________________________\n",
      "up_sampling2d_2 (UpSampling2 (None, 108, 32, 64)       0         \n",
      "_________________________________________________________________\n",
      "concatenate_2 (Concatenate)  (None, 108, 32, 128)      0         \n",
      "_________________________________________________________________\n",
      "conv2d_6 (Conv2D)            (None, 108, 32, 64)       73792     \n",
      "_________________________________________________________________\n",
      "batch_normalization_6 (Batch (None, 108, 32, 64)       256       \n",
      "_________________________________________________________________\n",
      "activation_6 (Activation)    (None, 108, 32, 64)       0         \n",
      "_________________________________________________________________\n",
      "Layer19 (UpSampling2D)       (None, 216, 64, 64)       0         \n",
      "_________________________________________________________________\n",
      "concatenate_3 (Concatenate)  (None, 216, 64, 128)      0         \n",
      "_________________________________________________________________\n",
      "conv2d_7 (Conv2D)            (None, 216, 64, 64)       73792     \n",
      "_________________________________________________________________\n",
      "batch_normalization_7 (Batch (None, 216, 64, 64)       256       \n",
      "_________________________________________________________________\n",
      "activation_7 (Activation)    (None, 216, 64, 64)       0         \n",
      "_________________________________________________________________\n",
      "conv2d_8 (Conv2D)            (None, 216, 64, 8)        520       \n",
      "_________________________________________________________________\n",
      "reshape_1 (Reshape)          (None, 13824, 8)          0         \n",
      "_________________________________________________________________\n",
      "activation_8 (Activation)    (None, 13824, 8)          0         \n",
      "=================================================================\n",
      "Total params: 335,112.0\n",
      "Trainable params: 334,216.0\n",
      "Non-trainable params: 896.0\n",
      "_________________________________________________________________\n"
     ]
    }
   ],
   "source": [
    "# Defines the input tensor\n",
    "inputs = Input(shape=(216,64,1))\n",
    "\n",
    "L1 = Conv2D(64,kernel_size=(3,3),padding = \"same\",kernel_regularizer=regularizers.l2(weight_decay))(inputs)\n",
    "L2 = BatchNormalization()(L1)\n",
    "L2 = Activation('relu')(L2)\n",
    "#L3 = Lambda(maxpool_1,output_shape = shape)(L2)\n",
    "L3 = MaxPooling2D(pool_size=(2,2))(L2)\n",
    "L4 = Conv2D(64,kernel_size=(3,3),padding = \"same\",kernel_regularizer=regularizers.l2(weight_decay))(L3)\n",
    "L5 = BatchNormalization()(L4)\n",
    "L5 = Activation('relu')(L5)\n",
    "#L6 = Lambda(maxpool_2,output_shape = shape)(L5)\n",
    "L6 = MaxPooling2D(pool_size=(2,2))(L5)\n",
    "L7 = Conv2D(64,kernel_size=(3,3),padding = \"same\",kernel_regularizer=regularizers.l2(weight_decay))(L6)\n",
    "L8 = BatchNormalization()(L7)\n",
    "L8 = Activation('relu')(L8)\n",
    "#L9 = Lambda(maxpool_3,output_shape = shape)(L8)\n",
    "L9 = MaxPooling2D(pool_size=(2,2))(L8)\n",
    "L10 = Conv2D(64,kernel_size=(3,3),padding = \"same\",kernel_regularizer=regularizers.l2(weight_decay))(L9)\n",
    "L11 = BatchNormalization()(L10)\n",
    "L11 = Activation('relu')(L11)\n",
    "L12 = UpSampling2D(size = (2,2))(L11)\n",
    "#L12 = Lambda(unpool_3,output_shape = unpool_shape)(L11)\n",
    "L13 = Concatenate(axis = 3)([L8,L12])\n",
    "L14 = Conv2D(64,kernel_size=(3,3),padding = \"same\",kernel_regularizer=regularizers.l2(weight_decay))(L13)\n",
    "L15 = BatchNormalization()(L14)\n",
    "L15 = Activation('relu')(L15)\n",
    "L16 = UpSampling2D(size= (2,2))(L15)\n",
    "#L16 = Lambda(unpool_2,output_shape=unpool_shape)(L15)\n",
    "L17 = Concatenate(axis = 3)([L16,L5])\n",
    "L18 = Conv2D(64,kernel_size=(3,3),padding = \"same\",kernel_regularizer=regularizers.l2(weight_decay))(L17)\n",
    "L19 = BatchNormalization()(L18)\n",
    "L19 = Activation('relu')(L19)\n",
    "#L20 = Lambda(unpool_1,output_shape=unpool_shape)(L19)\n",
    "L20 = UpSampling2D(size=(2,2),name = \"Layer19\")(L19)\n",
    "L21 = Concatenate(axis=3)([L20,L2])\n",
    "L22 = Conv2D(64,kernel_size=(3,3),padding = \"same\",kernel_regularizer=regularizers.l2(weight_decay))(L21)\n",
    "L23 = BatchNormalization()(L22)\n",
    "L23 = Activation('relu')(L23)\n",
    "L24 = Conv2D(8,kernel_size=(1,1),padding = \"same\",kernel_regularizer=regularizers.l2(weight_decay))(L23)\n",
    "L = Reshape((data_shape,8),input_shape = (216,64,8))(L24)\n",
    "L = Activation('softmax')(L)\n",
    "model = Model(inputs = inputs, outputs = L)\n",
    "model.summary()"
   ]
  },
  {
   "cell_type": "code",
   "execution_count": 29,
   "metadata": {
    "collapsed": true
   },
   "outputs": [],
   "source": [
    "weights = np.load('weighted_cropped_images.npy')"
   ]
  },
  {
   "cell_type": "code",
   "execution_count": 30,
   "metadata": {},
   "outputs": [
    {
     "data": {
      "text/plain": [
       "(770, 216, 64)"
      ]
     },
     "execution_count": 30,
     "metadata": {},
     "output_type": "execute_result"
    }
   ],
   "source": [
    "weights.shape"
   ]
  },
  {
   "cell_type": "code",
   "execution_count": 31,
   "metadata": {},
   "outputs": [
    {
     "data": {
      "text/plain": [
       "1.0"
      ]
     },
     "execution_count": 31,
     "metadata": {},
     "output_type": "execute_result"
    }
   ],
   "source": [
    "weights[0][0][0]"
   ]
  },
  {
   "cell_type": "code",
   "execution_count": 32,
   "metadata": {},
   "outputs": [
    {
     "data": {
      "text/plain": [
       "array([  1.   ,   4.336,   6.63 ,  12.007,  12.459,  14.647,  15.368,\n",
       "        17.978,  19.336,  21.63 ,  27.007,  27.459,  29.647,  30.368,\n",
       "        32.978])"
      ]
     },
     "execution_count": 32,
     "metadata": {},
     "output_type": "execute_result"
    }
   ],
   "source": [
    "np.unique(weights)"
   ]
  },
  {
   "cell_type": "code",
   "execution_count": 33,
   "metadata": {
    "collapsed": true
   },
   "outputs": [],
   "source": [
    "weights_matrix = []\n",
    "for i in train_indices:\n",
    "    weights_matrix.append(weights[i])"
   ]
  },
  {
   "cell_type": "code",
   "execution_count": 34,
   "metadata": {
    "collapsed": true
   },
   "outputs": [],
   "source": [
    "sample_weights = np.array(weights_matrix)"
   ]
  },
  {
   "cell_type": "code",
   "execution_count": 35,
   "metadata": {
    "collapsed": true
   },
   "outputs": [],
   "source": [
    "sample_weights = np.reshape(sample_weights,(500,data_shape))"
   ]
  },
  {
   "cell_type": "code",
   "execution_count": 36,
   "metadata": {},
   "outputs": [
    {
     "data": {
      "text/plain": [
       "(500, 13824)"
      ]
     },
     "execution_count": 36,
     "metadata": {},
     "output_type": "execute_result"
    }
   ],
   "source": [
    "sample_weights.shape"
   ]
  },
  {
   "cell_type": "code",
   "execution_count": 37,
   "metadata": {},
   "outputs": [
    {
     "data": {
      "text/plain": [
       "500"
      ]
     },
     "execution_count": 37,
     "metadata": {},
     "output_type": "execute_result"
    }
   ],
   "source": [
    "len(train_images)"
   ]
  },
  {
   "cell_type": "code",
   "execution_count": 38,
   "metadata": {},
   "outputs": [
    {
     "data": {
      "text/plain": [
       "(500, 216, 64, 8)"
      ]
     },
     "execution_count": 38,
     "metadata": {},
     "output_type": "execute_result"
    }
   ],
   "source": [
    "train_labels.shape"
   ]
  },
  {
   "cell_type": "code",
   "execution_count": 39,
   "metadata": {
    "collapsed": true
   },
   "outputs": [],
   "source": [
    "train_labels = np.reshape(train_labels,(500,data_shape,8))\n",
    "test_labels = np.reshape(test_labels,(270,data_shape,8))"
   ]
  },
  {
   "cell_type": "code",
   "execution_count": 40,
   "metadata": {},
   "outputs": [
    {
     "data": {
      "text/plain": [
       "(500, 13824, 8)"
      ]
     },
     "execution_count": 40,
     "metadata": {},
     "output_type": "execute_result"
    }
   ],
   "source": [
    "train_labels.shape"
   ]
  },
  {
   "cell_type": "code",
   "execution_count": 36,
   "metadata": {
    "collapsed": true
   },
   "outputs": [],
   "source": [
    "count = np.zeros(8)"
   ]
  },
  {
   "cell_type": "code",
   "execution_count": 37,
   "metadata": {
    "collapsed": true
   },
   "outputs": [],
   "source": [
    "for i in range(500):\n",
    "    for j in range(13824):\n",
    "        for k in range(8):\n",
    "            if(train_labels[i][j][k]==1):\n",
    "                count[k] = count[k]+1"
   ]
  },
  {
   "cell_type": "code",
   "execution_count": 408,
   "metadata": {},
   "outputs": [
    {
     "name": "stdout",
     "output_type": "stream",
     "text": [
      "3972411.0\n",
      "312782.0\n",
      "605075.0\n",
      "341224.0\n",
      "263099.0\n",
      "920815.0\n",
      "274885.0\n",
      "221709.0\n"
     ]
    }
   ],
   "source": [
    "for i in range(8):\n",
    "    print(count[i])"
   ]
  },
  {
   "cell_type": "code",
   "execution_count": 409,
   "metadata": {},
   "outputs": [
    {
     "data": {
      "text/plain": [
       "array([ 3972411.,   312782.,   605075.,   341224.,   263099.,   920815.,\n",
       "         274885.,   221709.])"
      ]
     },
     "execution_count": 409,
     "metadata": {},
     "output_type": "execute_result"
    }
   ],
   "source": [
    "count"
   ]
  },
  {
   "cell_type": "code",
   "execution_count": 410,
   "metadata": {},
   "outputs": [],
   "source": [
    "median = np.median(count)"
   ]
  },
  {
   "cell_type": "code",
   "execution_count": 411,
   "metadata": {},
   "outputs": [
    {
     "data": {
      "text/plain": [
       "327003.0"
      ]
     },
     "execution_count": 411,
     "metadata": {},
     "output_type": "execute_result"
    }
   ],
   "source": [
    "median"
   ]
  },
  {
   "cell_type": "code",
   "execution_count": 364,
   "metadata": {
    "collapsed": true
   },
   "outputs": [],
   "source": [
    "scale = np.zeros(8)"
   ]
  },
  {
   "cell_type": "code",
   "execution_count": 367,
   "metadata": {
    "collapsed": true
   },
   "outputs": [],
   "source": [
    "for i in range(8):\n",
    "    scale[i] = (median/count[i])"
   ]
  },
  {
   "cell_type": "code",
   "execution_count": 368,
   "metadata": {},
   "outputs": [
    {
     "data": {
      "text/plain": [
       "array([ 0.08176891,  1.01882538,  0.54272503,  0.98185769,  1.25668549,\n",
       "        0.354605  ,  1.19773269,  1.47007454])"
      ]
     },
     "execution_count": 368,
     "metadata": {},
     "output_type": "execute_result"
    }
   ],
   "source": [
    "scale"
   ]
  },
  {
   "cell_type": "code",
   "execution_count": 369,
   "metadata": {
    "collapsed": true
   },
   "outputs": [],
   "source": [
    "weights = np.zeros(8)\n",
    "for i in range(8):\n",
    "    weights[i] = scale[i]/scale[0]"
   ]
  },
  {
   "cell_type": "code",
   "execution_count": 370,
   "metadata": {},
   "outputs": [
    {
     "data": {
      "text/plain": [
       "array([  1.        ,  12.45981304,   6.63730261,  12.00771353,\n",
       "        15.36874386,   4.33667245,  14.6477755 ,  17.97840371])"
      ]
     },
     "execution_count": 370,
     "metadata": {},
     "output_type": "execute_result"
    }
   ],
   "source": [
    "weights"
   ]
  },
  {
   "cell_type": "code",
   "execution_count": 41,
   "metadata": {
    "collapsed": true
   },
   "outputs": [],
   "source": [
    "smooth = 1"
   ]
  },
  {
   "cell_type": "code",
   "execution_count": 42,
   "metadata": {
    "collapsed": true
   },
   "outputs": [],
   "source": [
    "def dice_coef(y_true, y_pred):\n",
    "    y_true_f = K.flatten(y_true)\n",
    "    y_pred_f = K.flatten(y_pred)\n",
    "    intersection = K.sum(y_true_f * y_pred_f)\n",
    "    return (2. * intersection + smooth) / (K.sum(y_true_f) + K.sum(y_pred_f) + smooth)\n"
   ]
  },
  {
   "cell_type": "code",
   "execution_count": 43,
   "metadata": {
    "collapsed": true
   },
   "outputs": [],
   "source": [
    "def dice_coef_loss(y_true, y_pred):\n",
    "    return -dice_coef(y_true, y_pred)"
   ]
  },
  {
   "cell_type": "code",
   "execution_count": 44,
   "metadata": {
    "collapsed": true
   },
   "outputs": [],
   "source": [
    "def customized_loss(y_true,y_pred):\n",
    "    return (1*K.categorical_crossentropy(y_true, y_pred))+(0.5*dice_coef_loss(y_true, y_pred))"
   ]
  },
  {
   "cell_type": "code",
   "execution_count": 45,
   "metadata": {
    "collapsed": true
   },
   "outputs": [],
   "source": [
    "optimiser = optimizers.Adam(lr = 0.01)"
   ]
  },
  {
   "cell_type": "code",
   "execution_count": 46,
   "metadata": {
    "collapsed": true
   },
   "outputs": [],
   "source": [
    "model.compile(optimizer=optimiser,loss=customized_loss,metrics=['accuracy',dice_coef],sample_weight_mode='temporal')"
   ]
  },
  {
   "cell_type": "code",
   "execution_count": 47,
   "metadata": {},
   "outputs": [
    {
     "data": {
      "text/plain": [
       "(216, 64, 1)"
      ]
     },
     "execution_count": 47,
     "metadata": {},
     "output_type": "execute_result"
    }
   ],
   "source": [
    "train_images[0].shape"
   ]
  },
  {
   "cell_type": "code",
   "execution_count": 48,
   "metadata": {
    "collapsed": true
   },
   "outputs": [],
   "source": [
    "#Defining Callback functions which will be called by model during runtime when specified condition satisfies\n",
    "lr_reducer = ReduceLROnPlateau(factor=0.5, cooldown=0, patience=6, min_lr=0.5e-6)\n",
    "csv_logger = CSVLogger('Relaynet_sample_weights_denoised_lr_e2_testing_bs_20.csv')\n",
    "model_chekpoint = ModelCheckpoint(\"Relaynet_sample_weights_denoised_lr_e2_testing_bs_20.hdf5\",monitor = 'val_loss',verbose = 1,save_best_only=True)"
   ]
  },
  {
   "cell_type": "code",
   "execution_count": null,
   "metadata": {
    "scrolled": false
   },
   "outputs": [
    {
     "name": "stdout",
     "output_type": "stream",
     "text": [
      "Train on 500 samples, validate on 270 samples\n",
      "Epoch 1/200\n",
      "380/500 [=====================>........] - ETA: 15s - loss: 45.2449 - acc: 0.6268 - dice_coef: 0.5852"
     ]
    }
   ],
   "source": [
    "\n",
    "model.fit(train_images,train_labels,batch_size=20,epochs=200,validation_data=(test_images,test_labels),sample_weight=sample_weights,callbacks=[lr_reducer, csv_logger,model_chekpoint])"
   ]
  },
  {
   "cell_type": "code",
   "execution_count": 49,
   "metadata": {
    "collapsed": true
   },
   "outputs": [],
   "source": [
    "model.load_weights(\"Relaynet_sample_weights_denoised_lr_e2_testing_bs_20.hdf5\")"
   ]
  },
  {
   "cell_type": "code",
   "execution_count": 86,
   "metadata": {
    "collapsed": true
   },
   "outputs": [],
   "source": [
    "testing_image = train_images[28]"
   ]
  },
  {
   "cell_type": "code",
   "execution_count": 87,
   "metadata": {},
   "outputs": [
    {
     "data": {
      "text/plain": [
       "(216, 64, 1)"
      ]
     },
     "execution_count": 87,
     "metadata": {},
     "output_type": "execute_result"
    }
   ],
   "source": [
    "testing_image.shape"
   ]
  },
  {
   "cell_type": "code",
   "execution_count": 88,
   "metadata": {
    "collapsed": true
   },
   "outputs": [],
   "source": [
    "testing_image = np.squeeze(testing_image,axis = 2)"
   ]
  },
  {
   "cell_type": "code",
   "execution_count": 89,
   "metadata": {},
   "outputs": [
    {
     "data": {
      "text/plain": [
       "(216, 64)"
      ]
     },
     "execution_count": 89,
     "metadata": {},
     "output_type": "execute_result"
    }
   ],
   "source": [
    "testing_image.shape"
   ]
  },
  {
   "cell_type": "code",
   "execution_count": 90,
   "metadata": {},
   "outputs": [
    {
     "data": {
      "text/plain": [
       "<matplotlib.image.AxesImage at 0x7f5c7c7f4ed0>"
      ]
     },
     "execution_count": 90,
     "metadata": {},
     "output_type": "execute_result"
    },
    {
     "data": {
      "image/png": "[encoded data removed]",
      "text/plain": [
       "<matplotlib.figure.Figure at 0x7f5c84468650>"
      ]
     },
     "metadata": {},
     "output_type": "display_data"
    }
   ],
   "source": [
    "plt.imshow(testing_image,cmap = \"gray\")"
   ]
  },
  {
   "cell_type": "code",
   "execution_count": 91,
   "metadata": {},
   "outputs": [],
   "source": [
    "plt.show()"
   ]
  },
  {
   "cell_type": "code",
   "execution_count": 92,
   "metadata": {
    "collapsed": true
   },
   "outputs": [],
   "source": [
    "testing_image = testing_image.reshape((1,216,64,1))"
   ]
  },
  {
   "cell_type": "code",
   "execution_count": 93,
   "metadata": {
    "collapsed": true
   },
   "outputs": [],
   "source": [
    "prediction = model.predict(testing_image)"
   ]
  },
  {
   "cell_type": "code",
   "execution_count": 94,
   "metadata": {
    "collapsed": true
   },
   "outputs": [],
   "source": [
    "prediction = np.squeeze(prediction,axis = 0)"
   ]
  },
  {
   "cell_type": "code",
   "execution_count": 95,
   "metadata": {},
   "outputs": [
    {
     "name": "stdout",
     "output_type": "stream",
     "text": [
      "(13824, 8)\n"
     ]
    }
   ],
   "source": [
    "print(prediction.shape)\n"
   ]
  },
  {
   "cell_type": "code",
   "execution_count": 96,
   "metadata": {},
   "outputs": [
    {
     "data": {
      "text/plain": [
       "4"
      ]
     },
     "execution_count": 96,
     "metadata": {},
     "output_type": "execute_result"
    }
   ],
   "source": [
    "np.argmax(prediction[6999])"
   ]
  },
  {
   "cell_type": "code",
   "execution_count": 97,
   "metadata": {
    "collapsed": true
   },
   "outputs": [],
   "source": [
    "prediction = np.reshape(prediction,(216,64,8))"
   ]
  },
  {
   "cell_type": "code",
   "execution_count": 98,
   "metadata": {
    "collapsed": true
   },
   "outputs": [],
   "source": [
    "output = np.zeros((216,64))"
   ]
  },
  {
   "cell_type": "code",
   "execution_count": 99,
   "metadata": {
    "collapsed": true
   },
   "outputs": [],
   "source": [
    "ground = np.zeros((216,64))"
   ]
  },
  {
   "cell_type": "code",
   "execution_count": 100,
   "metadata": {
    "collapsed": true
   },
   "outputs": [],
   "source": [
    "for i in range(216):\n",
    "    for j in range(64):\n",
    "        index = np.argmax(prediction[i][j])\n",
    "        output[i][j] = index"
   ]
  },
  {
   "cell_type": "code",
   "execution_count": 101,
   "metadata": {},
   "outputs": [
    {
     "data": {
      "text/plain": [
       "(13824, 8)"
      ]
     },
     "execution_count": 101,
     "metadata": {},
     "output_type": "execute_result"
    }
   ],
   "source": [
    "test_labels[0].shape"
   ]
  },
  {
   "cell_type": "code",
   "execution_count": 102,
   "metadata": {},
   "outputs": [
    {
     "data": {
      "text/plain": [
       "array([ 0.,  0.,  0.,  1.,  0.,  0.,  0.,  0.], dtype=float32)"
      ]
     },
     "execution_count": 102,
     "metadata": {},
     "output_type": "execute_result"
    }
   ],
   "source": [
    "test_labels[250][6999]"
   ]
  },
  {
   "cell_type": "code",
   "execution_count": 103,
   "metadata": {
    "collapsed": true
   },
   "outputs": [],
   "source": [
    "test_ground_truth = np.reshape(train_labels[28],(216,64,8))"
   ]
  },
  {
   "cell_type": "code",
   "execution_count": 104,
   "metadata": {
    "collapsed": true
   },
   "outputs": [],
   "source": [
    "for i in range(216):\n",
    "    for j in range(64):\n",
    "        index = np.argmax(test_ground_truth[i][j])\n",
    "        ground[i][j] = index"
   ]
  },
  {
   "cell_type": "code",
   "execution_count": 105,
   "metadata": {
    "collapsed": true
   },
   "outputs": [],
   "source": [
    "for i in range(216):\n",
    "    for j in range(64):\n",
    "        index = np.argmax(prediction[i][j])\n",
    "        output[i][j] = index"
   ]
  },
  {
   "cell_type": "code",
   "execution_count": 106,
   "metadata": {},
   "outputs": [
    {
     "name": "stdout",
     "output_type": "stream",
     "text": [
      "(216, 64)\n"
     ]
    }
   ],
   "source": [
    "print (output.shape)"
   ]
  },
  {
   "cell_type": "code",
   "execution_count": 107,
   "metadata": {
    "collapsed": true
   },
   "outputs": [],
   "source": [
    "color= np.zeros((216,64,3))"
   ]
  },
  {
   "cell_type": "code",
   "execution_count": 108,
   "metadata": {
    "collapsed": true
   },
   "outputs": [],
   "source": [
    "c0 = 0\n",
    "c1 = 0\n",
    "c2 = 0\n",
    "c3 = 0\n",
    "c4 = 0\n",
    "c5 = 0\n",
    "c6 = 0\n",
    "c7 = 0"
   ]
  },
  {
   "cell_type": "code",
   "execution_count": 109,
   "metadata": {
    "collapsed": true
   },
   "outputs": [],
   "source": [
    "for j in range(216):\n",
    "    for k in range(64):\n",
    "        if(output[j][k]==0):\n",
    "            c0 = c0 + 1\n",
    "            color[j][k] = [0,0,0]\n",
    "        if(output[j][k]==1):\n",
    "            c1 = c1 + 1\n",
    "            color[j][k] = [128,0,0]\n",
    "        if(output[j][k]==2):\n",
    "            c2 = c2 + 1\n",
    "            color[j][k] = [0,128,0]\n",
    "        if(output[j][k]==3):\n",
    "            c3 = c3 + 1\n",
    "            color[j][k] = [128,128,0] \n",
    "        if(output[j][k]==4):\n",
    "            c4 = c4 + 1\n",
    "            color[j][k] = [0,128,128]\n",
    "        if(output[j][k]==5):\n",
    "            c5 = c5 + 1\n",
    "            color[j][k] = [64,0,0]\n",
    "        if(output[j][k]==6):\n",
    "            c6 = c6 + 1\n",
    "            color[j][k] = [192,0,0]\n",
    "        if(output[j][k]==7):\n",
    "            c7 = c7 + 1\n",
    "            color[j][k] = [64,128,0]"
   ]
  },
  {
   "cell_type": "code",
   "execution_count": 110,
   "metadata": {},
   "outputs": [
    {
     "name": "stdout",
     "output_type": "stream",
     "text": [
      "8088\n",
      "789\n",
      "993\n",
      "675\n",
      "816\n",
      "1438\n",
      "513\n",
      "512\n"
     ]
    }
   ],
   "source": [
    "print(c0)\n",
    "print(c1)\n",
    "print(c2)\n",
    "print(c3)\n",
    "print(c4)\n",
    "print(c5)\n",
    "print(c6)\n",
    "print(c7)\n"
   ]
  },
  {
   "cell_type": "code",
   "execution_count": 111,
   "metadata": {
    "collapsed": true
   },
   "outputs": [],
   "source": [
    "%matplotlib inline"
   ]
  },
  {
   "cell_type": "code",
   "execution_count": 112,
   "metadata": {},
   "outputs": [
    {
     "data": {
      "text/plain": [
       "<matplotlib.image.AxesImage at 0x7f5c7c736350>"
      ]
     },
     "execution_count": 112,
     "metadata": {},
     "output_type": "execute_result"
    },
    {
     "data": {
      "image/png": "[encoded data removed]",
      "text/plain": [
       "<matplotlib.figure.Figure at 0x7f5c7c79a150>"
      ]
     },
     "metadata": {},
     "output_type": "display_data"
    }
   ],
   "source": [
    "plt.imshow(color)"
   ]
  },
  {
   "cell_type": "code",
   "execution_count": 113,
   "metadata": {
    "collapsed": true
   },
   "outputs": [],
   "source": [
    "plt.show()"
   ]
  },
  {
   "cell_type": "code",
   "execution_count": 114,
   "metadata": {},
   "outputs": [],
   "source": [
    "imsave(\"results2.png\",color)"
   ]
  },
  {
   "cell_type": "code",
   "execution_count": 115,
   "metadata": {
    "collapsed": true
   },
   "outputs": [],
   "source": [
    "%matplotlib inline"
   ]
  },
  {
   "cell_type": "code",
   "execution_count": 116,
   "metadata": {},
   "outputs": [],
   "source": [
    "plt.show()"
   ]
  },
  {
   "cell_type": "code",
   "execution_count": 117,
   "metadata": {
    "collapsed": true
   },
   "outputs": [],
   "source": [
    "color= np.zeros((216,64,3))"
   ]
  },
  {
   "cell_type": "code",
   "execution_count": 118,
   "metadata": {
    "collapsed": true
   },
   "outputs": [],
   "source": [
    "c0 = 0\n",
    "c1 = 0\n",
    "c2 = 0\n",
    "c3 = 0\n",
    "c4 = 0\n",
    "c5 = 0\n",
    "c6 = 0\n",
    "c7 = 0"
   ]
  },
  {
   "cell_type": "code",
   "execution_count": 119,
   "metadata": {},
   "outputs": [],
   "source": [
    "for j in range(216):\n",
    "    for k in range(64):\n",
    "        if(ground[j][k]==0):\n",
    "            c0 = c0 + 1\n",
    "            color[j][k] = [0,0,0]\n",
    "        if(ground[j][k]==1):\n",
    "            c1 = c1 + 1\n",
    "            color[j][k] = [128,0,0]\n",
    "        if(ground[j][k]==2):\n",
    "            c2 = c2 + 1\n",
    "            color[j][k] = [0,128,0]\n",
    "        if(ground[j][k]==3):\n",
    "            c3 = c3 + 1\n",
    "            color[j][k] = [128,128,0] \n",
    "        if(ground[j][k]==4):\n",
    "            c4 = c4 + 1\n",
    "            color[j][k] = [0,128,128]\n",
    "        if(ground[j][k]==5):\n",
    "            c5 = c5 + 1\n",
    "            color[j][k] = [64,0,0]\n",
    "        if(ground[j][k]==6):\n",
    "            c6 = c6 + 1\n",
    "            color[j][k] = [192,0,0]\n",
    "        if(ground[j][k]==7):\n",
    "            c7 = c7 + 1\n",
    "            color[j][k] = [64,128,0]"
   ]
  },
  {
   "cell_type": "code",
   "execution_count": 120,
   "metadata": {},
   "outputs": [
    {
     "name": "stdout",
     "output_type": "stream",
     "text": [
      "8273\n",
      "592\n",
      "1035\n",
      "703\n",
      "763\n",
      "1501\n",
      "548\n",
      "409\n"
     ]
    }
   ],
   "source": [
    "print(c0)\n",
    "print(c1)\n",
    "print(c2)\n",
    "print(c3)\n",
    "print(c4)\n",
    "print(c5)\n",
    "print(c6)\n",
    "print(c7)\n"
   ]
  },
  {
   "cell_type": "code",
   "execution_count": 121,
   "metadata": {},
   "outputs": [
    {
     "data": {
      "text/plain": [
       "<matplotlib.image.AxesImage at 0x7f5c7c66e190>"
      ]
     },
     "execution_count": 121,
     "metadata": {},
     "output_type": "execute_result"
    },
    {
     "data": {
      "image/png": "[encoded data removed]",
      "text/plain": [
       "<matplotlib.figure.Figure at 0x7f5c7c6d27d0>"
      ]
     },
     "metadata": {},
     "output_type": "display_data"
    }
   ],
   "source": [
    "plt.imshow(color)"
   ]
  },
  {
   "cell_type": "code",
   "execution_count": 322,
   "metadata": {},
   "outputs": [],
   "source": [
    "imsave(\"results.png\",color)"
   ]
  },
  {
   "cell_type": "code",
   "execution_count": 134,
   "metadata": {},
   "outputs": [],
   "source": [
    "plt.show()"
   ]
  },
  {
   "cell_type": "code",
   "execution_count": null,
   "metadata": {
    "collapsed": true
   },
   "outputs": [],
   "source": []
  },
  {
   "cell_type": "code",
   "execution_count": null,
   "metadata": {
    "collapsed": true
   },
   "outputs": [],
   "source": []
  }
 ],
 "metadata": {
  "kernelspec": {
   "display_name": "Python (py3)",
   "language": "python",
   "name": "py3"
  },
  "language_info": {
   "codemirror_mode": {
    "name": "ipython",
    "version": 3
   },
   "file_extension": ".py",
   "mimetype": "text/x-python",
   "name": "python",
   "nbconvert_exporter": "python",
   "pygments_lexer": "ipython3",
   "version": "3.6.5"
  }
 },
 "nbformat": 4,
 "nbformat_minor": 2
}
